{
 "cells": [
  {
   "cell_type": "code",
   "execution_count": 136,
   "metadata": {},
   "outputs": [],
   "source": [
    "import pandas as pd\n",
    "import numpy as np\n",
    "from sklearn.preprocessing import LabelEncoder, OneHotEncoder\n",
    "from kmodes.kmodes import KModes\n",
    "from kmodes.kprototypes import KPrototypes"
   ]
  },
  {
   "cell_type": "code",
   "execution_count": 147,
   "metadata": {},
   "outputs": [],
   "source": [
    "test_df = pd.read_pickle('test_df.pkl')"
   ]
  },
  {
   "cell_type": "code",
   "execution_count": 148,
   "metadata": {},
   "outputs": [
    {
     "data": {
      "text/html": [
       "<div>\n",
       "<style scoped>\n",
       "    .dataframe tbody tr th:only-of-type {\n",
       "        vertical-align: middle;\n",
       "    }\n",
       "\n",
       "    .dataframe tbody tr th {\n",
       "        vertical-align: top;\n",
       "    }\n",
       "\n",
       "    .dataframe thead th {\n",
       "        text-align: right;\n",
       "    }\n",
       "</style>\n",
       "<table border=\"1\" class=\"dataframe\">\n",
       "  <thead>\n",
       "    <tr style=\"text-align: right;\">\n",
       "      <th></th>\n",
       "      <th>is_customizable</th>\n",
       "      <th>materials</th>\n",
       "      <th>num_favorers</th>\n",
       "      <th>occasion</th>\n",
       "      <th>processing_max</th>\n",
       "      <th>processing_min</th>\n",
       "      <th>quantity</th>\n",
       "      <th>tags</th>\n",
       "      <th>taxonomy_path</th>\n",
       "      <th>views</th>\n",
       "      <th>when_made</th>\n",
       "      <th>who_made</th>\n",
       "      <th>price_usd</th>\n",
       "    </tr>\n",
       "  </thead>\n",
       "  <tbody>\n",
       "    <tr>\n",
       "      <th>151842</th>\n",
       "      <td>0</td>\n",
       "      <td>bezels, nickel free bezels, Americana cabochon...</td>\n",
       "      <td>8.0</td>\n",
       "      <td>None</td>\n",
       "      <td>3.0</td>\n",
       "      <td>1.0</td>\n",
       "      <td>4.0</td>\n",
       "      <td>Fourth of July studs, patriotic accessorie, pa...</td>\n",
       "      <td>Jewelry, Earrings, Stud Earrings</td>\n",
       "      <td>514.0</td>\n",
       "      <td>standard</td>\n",
       "      <td>i_did</td>\n",
       "      <td>8.000</td>\n",
       "    </tr>\n",
       "    <tr>\n",
       "      <th>261700</th>\n",
       "      <td>0</td>\n",
       "      <td>turquoise, sterling silver</td>\n",
       "      <td>11.0</td>\n",
       "      <td>None</td>\n",
       "      <td>1.0</td>\n",
       "      <td>1.0</td>\n",
       "      <td>1.0</td>\n",
       "      <td></td>\n",
       "      <td>Jewelry, Rings, Solitaire Rings</td>\n",
       "      <td>34.0</td>\n",
       "      <td>vintage</td>\n",
       "      <td>someone_else</td>\n",
       "      <td>49.750</td>\n",
       "    </tr>\n",
       "    <tr>\n",
       "      <th>264540</th>\n",
       "      <td>0</td>\n",
       "      <td>Stainless steel</td>\n",
       "      <td>8.0</td>\n",
       "      <td>None</td>\n",
       "      <td>1.0</td>\n",
       "      <td>1.0</td>\n",
       "      <td>1.0</td>\n",
       "      <td>Over Lap Tear Drop, Stainless Tear Drops, VTG ...</td>\n",
       "      <td>Jewelry, Rings, Statement Rings</td>\n",
       "      <td>49.0</td>\n",
       "      <td>vintage</td>\n",
       "      <td>someone_else</td>\n",
       "      <td>24.990</td>\n",
       "    </tr>\n",
       "    <tr>\n",
       "      <th>144297</th>\n",
       "      <td>1</td>\n",
       "      <td>Silver, Polyester, Brass</td>\n",
       "      <td>5.0</td>\n",
       "      <td>None</td>\n",
       "      <td>2.0</td>\n",
       "      <td>1.0</td>\n",
       "      <td>20.0</td>\n",
       "      <td>bunny brooch, discobunny, rabbit brooch, disco...</td>\n",
       "      <td>Jewelry, Brooches, Pins &amp; Clips, Brooches</td>\n",
       "      <td>25.0</td>\n",
       "      <td>standard</td>\n",
       "      <td>i_did</td>\n",
       "      <td>6.027</td>\n",
       "    </tr>\n",
       "    <tr>\n",
       "      <th>252974</th>\n",
       "      <td>1</td>\n",
       "      <td>sterling silver, silk</td>\n",
       "      <td>46.0</td>\n",
       "      <td>None</td>\n",
       "      <td>10.0</td>\n",
       "      <td>5.0</td>\n",
       "      <td>2.0</td>\n",
       "      <td>necklace, pendant, sterling silver, silver, bu...</td>\n",
       "      <td>Jewelry, Necklaces, Pendants</td>\n",
       "      <td>359.0</td>\n",
       "      <td>made_to_order</td>\n",
       "      <td>i_did</td>\n",
       "      <td>67.320</td>\n",
       "    </tr>\n",
       "  </tbody>\n",
       "</table>\n",
       "</div>"
      ],
      "text/plain": [
       "        is_customizable                                          materials  \\\n",
       "151842                0  bezels, nickel free bezels, Americana cabochon...   \n",
       "261700                0                         turquoise, sterling silver   \n",
       "264540                0                                    Stainless steel   \n",
       "144297                1                           Silver, Polyester, Brass   \n",
       "252974                1                              sterling silver, silk   \n",
       "\n",
       "        num_favorers occasion  processing_max  processing_min  quantity  \\\n",
       "151842           8.0     None             3.0             1.0       4.0   \n",
       "261700          11.0     None             1.0             1.0       1.0   \n",
       "264540           8.0     None             1.0             1.0       1.0   \n",
       "144297           5.0     None             2.0             1.0      20.0   \n",
       "252974          46.0     None            10.0             5.0       2.0   \n",
       "\n",
       "                                                     tags  \\\n",
       "151842  Fourth of July studs, patriotic accessorie, pa...   \n",
       "261700                                                      \n",
       "264540  Over Lap Tear Drop, Stainless Tear Drops, VTG ...   \n",
       "144297  bunny brooch, discobunny, rabbit brooch, disco...   \n",
       "252974  necklace, pendant, sterling silver, silver, bu...   \n",
       "\n",
       "                                    taxonomy_path  views      when_made  \\\n",
       "151842           Jewelry, Earrings, Stud Earrings  514.0       standard   \n",
       "261700            Jewelry, Rings, Solitaire Rings   34.0        vintage   \n",
       "264540            Jewelry, Rings, Statement Rings   49.0        vintage   \n",
       "144297  Jewelry, Brooches, Pins & Clips, Brooches   25.0       standard   \n",
       "252974               Jewelry, Necklaces, Pendants  359.0  made_to_order   \n",
       "\n",
       "            who_made  price_usd  \n",
       "151842         i_did      8.000  \n",
       "261700  someone_else     49.750  \n",
       "264540  someone_else     24.990  \n",
       "144297         i_did      6.027  \n",
       "252974         i_did     67.320  "
      ]
     },
     "execution_count": 148,
     "metadata": {},
     "output_type": "execute_result"
    }
   ],
   "source": [
    "test_df.head()"
   ]
  },
  {
   "cell_type": "markdown",
   "metadata": {},
   "source": [
    "### One Hot Encode for Materials"
   ]
  },
  {
   "cell_type": "code",
   "execution_count": 149,
   "metadata": {
    "scrolled": false
   },
   "outputs": [],
   "source": [
    "#Silver - silver, sterling silver, \n",
    "#Gold\n",
    "#Glass\n",
    "#Diamond\n",
    "#Stones - stone, gemstone, turquoise,quartz,amethyst,emrald,ruby\n",
    "#pearl\n",
    "\n",
    "\n",
    "test_df['contains_silver'] = test_df.materials.str.contains('silver', case = False, regex=False).apply(lambda x:1 if x else 0)\n",
    "test_df['contains_gold'] = test_df.materials.str.contains('gold', case = False, regex=False).apply(lambda x:1 if x else 0)\n",
    "test_df['contains_glass'] = test_df.materials.str.contains('glass', case = False, regex=False).apply(lambda x:1 if x else 0)\n",
    "test_df['contains_diamond'] = test_df.materials.str.contains('diamond', case = False, regex=False).apply(lambda x:1 if x else 0)\n",
    "test_df['contains_pearl'] = test_df.materials.str.contains('pearl', case = False, regex=False).apply(lambda x:1 if x else 0)\n",
    "test_df['contains_stone'] = \\\n",
    "(test_df.materials.str.contains('quartz', case = False, regex=False) | \\\n",
    " test_df.materials.str.contains('ruby', case = False, regex=False) | \\\n",
    " test_df.materials.str.contains('emrald', case = False, regex=False) | \\\n",
    " test_df.materials.str.contains('turquoise', case = False, regex=False) | \\\n",
    " test_df.materials.str.contains('amethyst', case = False, regex=False) | \\\n",
    " test_df.materials.str.contains('stone', case = False, regex=False) | \\\n",
    " test_df.materials.str.contains('gemstone', case = False, regex=False)\n",
    ").apply(lambda x:1 if x else 0)\n"
   ]
  },
  {
   "cell_type": "code",
   "execution_count": 151,
   "metadata": {},
   "outputs": [],
   "source": [
    "#Can drop materials column now\n",
    "\n",
    "test_df = test_df.drop(columns=['materials'])"
   ]
  },
  {
   "cell_type": "code",
   "execution_count": 156,
   "metadata": {
    "scrolled": false
   },
   "outputs": [
    {
     "name": "stdout",
     "output_type": "stream",
     "text": [
      "<class 'pandas.core.frame.DataFrame'>\n",
      "Int64Index: 62209 entries, 151842 to 15653\n",
      "Data columns (total 18 columns):\n",
      "is_customizable     62209 non-null int64\n",
      "num_favorers        62209 non-null float64\n",
      "occasion            62209 non-null object\n",
      "processing_max      62209 non-null float64\n",
      "processing_min      62209 non-null float64\n",
      "quantity            62209 non-null float64\n",
      "tags                62209 non-null object\n",
      "taxonomy_path       62209 non-null object\n",
      "views               62209 non-null float64\n",
      "when_made           62209 non-null object\n",
      "who_made            62209 non-null object\n",
      "price_usd           62209 non-null float64\n",
      "contains_silver     62209 non-null int64\n",
      "contains_gold       62209 non-null int64\n",
      "contains_glass      62209 non-null int64\n",
      "contains_diamond    62209 non-null int64\n",
      "contains_pearl      62209 non-null int64\n",
      "contains_stone      62209 non-null int64\n",
      "dtypes: float64(6), int64(7), object(5)\n",
      "memory usage: 9.0+ MB\n"
     ]
    }
   ],
   "source": [
    "test_df.info()"
   ]
  },
  {
   "cell_type": "markdown",
   "metadata": {},
   "source": [
    "### One Hot Encode - Occasion"
   ]
  },
  {
   "cell_type": "code",
   "execution_count": 153,
   "metadata": {
    "scrolled": true
   },
   "outputs": [
    {
     "data": {
      "text/plain": [
       "None                  59819\n",
       "wedding                 509\n",
       "birthday                452\n",
       "engagement              402\n",
       "anniversary             208\n",
       "christmas               208\n",
       "valentines              124\n",
       "mothers_day             122\n",
       "get_well                 61\n",
       "sympathy                 49\n",
       "new_baby                 35\n",
       "graduation               28\n",
       "halloween                27\n",
       "easter                   20\n",
       "new_years                19\n",
       "fathers_day              18\n",
       "sweet_16                 18\n",
       "chinese_new_year         15\n",
       "day_of_the_dead          15\n",
       "july_4th                  9\n",
       "prom                      7\n",
       "baptism                   7\n",
       "st_patricks_day           5\n",
       "confirmation              5\n",
       "canada_day                4\n",
       "eid                       4\n",
       "thanksgiving              4\n",
       "hanukkah                  3\n",
       "cinco_de_mayo             3\n",
       "quinceanera               3\n",
       "housewarming              2\n",
       "kwanzaa                   2\n",
       "retirement                1\n",
       "bar_or_bat_mitzvah        1\n",
       "Name: occasion, dtype: int64"
      ]
     },
     "execution_count": 153,
     "metadata": {},
     "output_type": "execute_result"
    }
   ],
   "source": [
    "test_df.occasion.value_counts()"
   ]
  },
  {
   "cell_type": "code",
   "execution_count": 157,
   "metadata": {},
   "outputs": [],
   "source": [
    "occasion_df = pd.get_dummies(test_df.occasion)"
   ]
  },
  {
   "cell_type": "code",
   "execution_count": 158,
   "metadata": {},
   "outputs": [],
   "source": [
    "occasion_df = occasion_df.drop(columns=['None', 'baptism', 'bar_or_bat_mitzvah',\n",
    "       'canada_day', 'chinese_new_year', 'cinco_de_mayo','confirmation', 'day_of_the_dead', \n",
    "        'easter', 'eid', 'fathers_day', 'get_well', 'graduation', 'halloween', 'hanukkah',\n",
    "       'housewarming', 'july_4th', 'kwanzaa', 'new_baby',\n",
    "       'new_years', 'prom', 'quinceanera', 'retirement', 'st_patricks_day',\n",
    "       'sweet_16', 'sympathy', 'thanksgiving'])"
   ]
  },
  {
   "cell_type": "code",
   "execution_count": 159,
   "metadata": {
    "scrolled": false
   },
   "outputs": [],
   "source": [
    "# occasion_df.info()\n",
    "# test_df_copy = test_df.copy()\n",
    "\n",
    "test_df = pd.merge(test_df, occasion_df, left_index = True, right_index=True)\n"
   ]
  },
  {
   "cell_type": "code",
   "execution_count": 160,
   "metadata": {},
   "outputs": [],
   "source": [
    "#can drop 'occasion' column\n",
    "\n",
    "test_df = test_df.drop(columns=['occasion'])"
   ]
  },
  {
   "cell_type": "markdown",
   "metadata": {},
   "source": [
    "### One Hot Encode - Tags Column ??? (DROP for now)"
   ]
  },
  {
   "cell_type": "code",
   "execution_count": 162,
   "metadata": {},
   "outputs": [],
   "source": [
    "# test_df.tags.sample(20)\n",
    "test_df = test_df.drop(columns=['tags'])"
   ]
  },
  {
   "cell_type": "code",
   "execution_count": 163,
   "metadata": {},
   "outputs": [
    {
     "name": "stdout",
     "output_type": "stream",
     "text": [
      "<class 'pandas.core.frame.DataFrame'>\n",
      "Int64Index: 62209 entries, 151842 to 15653\n",
      "Data columns (total 23 columns):\n",
      "is_customizable     62209 non-null int64\n",
      "num_favorers        62209 non-null float64\n",
      "processing_max      62209 non-null float64\n",
      "processing_min      62209 non-null float64\n",
      "quantity            62209 non-null float64\n",
      "taxonomy_path       62209 non-null object\n",
      "views               62209 non-null float64\n",
      "when_made           62209 non-null object\n",
      "who_made            62209 non-null object\n",
      "price_usd           62209 non-null float64\n",
      "contains_silver     62209 non-null int64\n",
      "contains_gold       62209 non-null int64\n",
      "contains_glass      62209 non-null int64\n",
      "contains_diamond    62209 non-null int64\n",
      "contains_pearl      62209 non-null int64\n",
      "contains_stone      62209 non-null int64\n",
      "anniversary         62209 non-null uint8\n",
      "birthday            62209 non-null uint8\n",
      "christmas           62209 non-null uint8\n",
      "engagement          62209 non-null uint8\n",
      "mothers_day         62209 non-null uint8\n",
      "valentines          62209 non-null uint8\n",
      "wedding             62209 non-null uint8\n",
      "dtypes: float64(6), int64(7), object(3), uint8(7)\n",
      "memory usage: 11.0+ MB\n"
     ]
    }
   ],
   "source": [
    "test_df.info()"
   ]
  },
  {
   "cell_type": "markdown",
   "metadata": {},
   "source": [
    "### One Hot Encode - Taxonomy"
   ]
  },
  {
   "cell_type": "code",
   "execution_count": 165,
   "metadata": {
    "scrolled": false
   },
   "outputs": [],
   "source": [
    "# test_df.taxonomy_path.value_counts()\n",
    "\n",
    "taxonomy_df = pd.DataFrame(test_df.taxonomy_path.copy())"
   ]
  },
  {
   "cell_type": "code",
   "execution_count": 166,
   "metadata": {},
   "outputs": [],
   "source": [
    "taxonomy_df = taxonomy_df.taxonomy_path.str.replace(', ',',').str.get_dummies(sep=',')"
   ]
  },
  {
   "cell_type": "code",
   "execution_count": 170,
   "metadata": {},
   "outputs": [],
   "source": [
    "taxonomy_df = taxonomy_df.drop(columns=['Art & Collectibles', 'Bands', 'Barbells',\n",
    "       'Beaded Necklaces', 'Beads', 'Belly Rings','Bib Necklaces','Cabochons', 'Cameo Necklaces',\n",
    "       'Chain & Link Bracelets', 'Chains', 'Charms', 'Charms & Pendants', 'Claddagh Rings',\n",
    "       'Cluster Earrings', 'Coins & Money', 'Collectible Glass',\n",
    "       'Craft Supplies & Tools','Ear Climbers', 'Ear Jackets', 'Ear Jackets & Climbers', 'Ear Weights',\n",
    "       'Engagement Rings', 'Findings', 'Fraternal & Class Rings',\n",
    "       'Friendship Bracelets', 'Gauge & Plug Earrings', 'Gems & Cabochons',\n",
    "       'Hoop Earrings', 'ID & Medical Bracelets', 'Jewelry Sets', 'Keychains',\n",
    "       'Keychains & Lanyards', 'Lanyards & Badge Holders',\n",
    "       'Lariat & Y Necklaces', 'Lockets', 'Midi Rings','Collectibles','Clasps & Clips','Cuff & Wrap Earrings',\n",
    "       'Monogram & Name Necklaces', 'Multi Strand Necklaces','Pendants',\n",
    "       'Multistone Rings', 'Nipple Jewelry', 'Nose Rings & Studs',\n",
    "       'Paper & Party Supplies', 'Party Favors', 'Party Favors & Games',\n",
    "       'Party Supplies', 'Patterns & Blueprints', 'Patterns & How To',\n",
    "       'Pet Collars & Leashes', 'Pet ID Tags', 'Pet Supplies', 'Pins & Clips',\n",
    "       'Promise Rings', 'Ring Guards & Spacers', 'Screw Back Earrings',\n",
    "       'Signet Rings', 'Stackable Rings', 'Statement Rings',\n",
    "       'Tassel Necklaces', 'Threader Earrings',\n",
    "       'Triplet & Double Rings', 'Tutorials', 'Wedding & Engagement','Accessories','Anniversary Rings',\n",
    "        'Jewelry','Body Jewelry',\n",
    "       'Wedding Bands', 'Woven & Braided Bracelets'])"
   ]
  },
  {
   "cell_type": "code",
   "execution_count": 171,
   "metadata": {},
   "outputs": [
    {
     "data": {
      "text/plain": [
       "Bridal Sets                 154\n",
       "Chandelier Earrings         201\n",
       "Clip On Earrings            389\n",
       "Chokers                     421\n",
       "Crystal Necklaces           428\n",
       "Solitaire Rings             626\n",
       "Charm Necklaces            1087\n",
       "Bangles                    1151\n",
       "Cuff Bracelets             1163\n",
       "Charm Bracelets            1373\n",
       "Stud Earrings              1491\n",
       "Beaded Bracelets           3784\n",
       "Dangle & Drop Earrings     5828\n",
       "Anklets                    9170\n",
       "Brooches                   9877\n",
       "Rings                      9976\n",
       "Bracelets                  9993\n",
       "Earrings                   9995\n",
       "Necklaces                 12944\n",
       "dtype: int64"
      ]
     },
     "execution_count": 171,
     "metadata": {},
     "output_type": "execute_result"
    }
   ],
   "source": [
    "taxonomy_df.sum().sort_values()"
   ]
  },
  {
   "cell_type": "code",
   "execution_count": 172,
   "metadata": {},
   "outputs": [],
   "source": [
    "test_df = pd.merge(test_df, taxonomy_df, left_index = True, right_index=True)"
   ]
  },
  {
   "cell_type": "code",
   "execution_count": 173,
   "metadata": {},
   "outputs": [],
   "source": [
    "#can drop taxonomy path\n",
    "\n",
    "test_df = test_df.drop(columns=['taxonomy_path'])"
   ]
  },
  {
   "cell_type": "code",
   "execution_count": 174,
   "metadata": {},
   "outputs": [
    {
     "name": "stdout",
     "output_type": "stream",
     "text": [
      "<class 'pandas.core.frame.DataFrame'>\n",
      "Int64Index: 62209 entries, 151842 to 15653\n",
      "Data columns (total 41 columns):\n",
      "is_customizable           62209 non-null int64\n",
      "num_favorers              62209 non-null float64\n",
      "processing_max            62209 non-null float64\n",
      "processing_min            62209 non-null float64\n",
      "quantity                  62209 non-null float64\n",
      "views                     62209 non-null float64\n",
      "when_made                 62209 non-null object\n",
      "who_made                  62209 non-null object\n",
      "price_usd                 62209 non-null float64\n",
      "contains_silver           62209 non-null int64\n",
      "contains_gold             62209 non-null int64\n",
      "contains_glass            62209 non-null int64\n",
      "contains_diamond          62209 non-null int64\n",
      "contains_pearl            62209 non-null int64\n",
      "contains_stone            62209 non-null int64\n",
      "anniversary               62209 non-null uint8\n",
      "birthday                  62209 non-null uint8\n",
      "christmas                 62209 non-null uint8\n",
      "engagement                62209 non-null uint8\n",
      "mothers_day               62209 non-null uint8\n",
      "valentines                62209 non-null uint8\n",
      "wedding                   62209 non-null uint8\n",
      "Anklets                   62209 non-null int64\n",
      "Bangles                   62209 non-null int64\n",
      "Beaded Bracelets          62209 non-null int64\n",
      "Bracelets                 62209 non-null int64\n",
      "Bridal Sets               62209 non-null int64\n",
      "Brooches                  62209 non-null int64\n",
      "Chandelier Earrings       62209 non-null int64\n",
      "Charm Bracelets           62209 non-null int64\n",
      "Charm Necklaces           62209 non-null int64\n",
      "Chokers                   62209 non-null int64\n",
      "Clip On Earrings          62209 non-null int64\n",
      "Crystal Necklaces         62209 non-null int64\n",
      "Cuff Bracelets            62209 non-null int64\n",
      "Dangle & Drop Earrings    62209 non-null int64\n",
      "Earrings                  62209 non-null int64\n",
      "Necklaces                 62209 non-null int64\n",
      "Rings                     62209 non-null int64\n",
      "Solitaire Rings           62209 non-null int64\n",
      "Stud Earrings             62209 non-null int64\n",
      "dtypes: float64(6), int64(26), object(2), uint8(7)\n",
      "memory usage: 19.5+ MB\n"
     ]
    }
   ],
   "source": [
    "test_df.info()"
   ]
  },
  {
   "cell_type": "code",
   "execution_count": 132,
   "metadata": {},
   "outputs": [
    {
     "data": {
      "text/plain": [
       "standard         35206\n",
       "made_to_order    14045\n",
       "vintage          12958\n",
       "Name: when_made, dtype: int64"
      ]
     },
     "execution_count": 132,
     "metadata": {},
     "output_type": "execute_result"
    }
   ],
   "source": [
    "test_df.when_made.value_counts()"
   ]
  },
  {
   "cell_type": "code",
   "execution_count": 178,
   "metadata": {},
   "outputs": [
    {
     "name": "stdout",
     "output_type": "stream",
     "text": [
      "[array([[4.23596059e+01, 5.05418719e+00, 2.91625616e+00, 2.10837438e+00,\n",
      "        4.59847291e+02, 9.12215483e+03, 1.97044335e-02, 5.91133005e-02,\n",
      "        4.92610837e-02, 7.33990148e-01, 1.47783251e-02, 9.85221675e-03],\n",
      "       [2.77061111e+03, 6.87037037e+00, 3.83333333e+00, 5.69444444e+01,\n",
      "        2.79427407e+04, 2.27419787e+02, 3.70370370e-02, 3.70370370e-02,\n",
      "        1.11111111e-01, 3.14814815e-01, 0.00000000e+00, 0.00000000e+00],\n",
      "       [5.38554302e+02, 6.38645980e+00, 3.63610719e+00, 3.59435825e+01,\n",
      "        5.23533145e+03, 4.06209600e+02, 1.83356841e-02, 5.92383639e-02,\n",
      "        1.52327221e-01, 3.99153738e-01, 1.12834979e-02, 1.41043724e-02],\n",
      "       [4.02983333e+03, 6.33333333e+00, 4.33333333e+00, 4.20000000e+01,\n",
      "        1.26330500e+05, 2.47720000e+02, 0.00000000e+00, 0.00000000e+00,\n",
      "        1.66666667e-01, 3.33333333e-01, 0.00000000e+00, 0.00000000e+00],\n",
      "       [2.17849339e+01, 3.67919722e+00, 1.93381452e+00, 1.25847445e+01,\n",
      "        1.34329752e+02, 1.12358396e+02, 9.48609501e-02, 1.62303836e-01,\n",
      "        2.09334226e-01, 1.55543217e-01, 1.00429479e-02, 2.41520649e-02]]), array([['0', 'vintage', 'i_did', '0', '1', '0', '1', '0', '0', '0', '0',\n",
      "        '0', '0', '0', '0', '0', '0', '0', '0', '0', '0', '0', '0', '0',\n",
      "        '0', '0', '0', '0', '0'],\n",
      "       ['1', 'made_to_order', 'i_did', '0', '0', '0', '0', '0', '0', '0',\n",
      "        '0', '0', '0', '0', '0', '0', '0', '0', '0', '0', '0', '0', '0',\n",
      "        '0', '0', '0', '0', '0', '0'],\n",
      "       ['1', 'made_to_order', 'i_did', '0', '0', '0', '0', '0', '0', '0',\n",
      "        '0', '0', '0', '0', '0', '0', '0', '0', '0', '0', '0', '0', '0',\n",
      "        '0', '0', '0', '0', '0', '0'],\n",
      "       ['1', 'made_to_order', 'i_did', '0', '0', '0', '0', '0', '0', '0',\n",
      "        '0', '0', '0', '0', '0', '0', '0', '0', '0', '0', '0', '0', '0',\n",
      "        '0', '0', '0', '0', '0', '0'],\n",
      "       ['0', 'standard', 'i_did', '0', '0', '0', '0', '0', '0', '0', '0',\n",
      "        '0', '0', '0', '0', '0', '0', '0', '0', '0', '0', '0', '0', '0',\n",
      "        '0', '0', '0', '0', '0']], dtype='<U21')]\n"
     ]
    }
   ],
   "source": [
    "kp = KPrototypes(n_clusters=5, init='Huang', n_init=1, verbose=True, n_jobs = -1)\n",
    "\n",
    "kp.fit_predict(test_df, categorical = [0,6,7,9,10,11,12,13,14,15,16,17,18,19,20,21,22,23,24,25,26,27,28,29,30,31,32,33,34])\n",
    "\n",
    "print(kp.cluster_centroids_)\n",
    "# print(kp.labels_)"
   ]
  },
  {
   "cell_type": "code",
   "execution_count": 140,
   "metadata": {},
   "outputs": [],
   "source": [
    "test_df_labeled = test_df.copy()"
   ]
  },
  {
   "cell_type": "code",
   "execution_count": 141,
   "metadata": {},
   "outputs": [],
   "source": [
    "test_df_labeled['cluster_label'] = kp.labels_"
   ]
  },
  {
   "cell_type": "code",
   "execution_count": 144,
   "metadata": {},
   "outputs": [
    {
     "data": {
      "text/plain": [
       "4    61882\n",
       "1      212\n",
       "3      106\n",
       "0        6\n",
       "2        3\n",
       "Name: cluster_label, dtype: int64"
      ]
     },
     "execution_count": 144,
     "metadata": {},
     "output_type": "execute_result"
    }
   ],
   "source": [
    "test_df_labeled.cluster_label.value_counts()"
   ]
  },
  {
   "cell_type": "code",
   "execution_count": 145,
   "metadata": {},
   "outputs": [],
   "source": [
    "pd.to_pickle(test_df_labeled,'test_labeled_df.pkl')"
   ]
  },
  {
   "cell_type": "code",
   "execution_count": 146,
   "metadata": {
    "scrolled": true
   },
   "outputs": [
    {
     "data": {
      "text/html": [
       "<div>\n",
       "<style scoped>\n",
       "    .dataframe tbody tr th:only-of-type {\n",
       "        vertical-align: middle;\n",
       "    }\n",
       "\n",
       "    .dataframe tbody tr th {\n",
       "        vertical-align: top;\n",
       "    }\n",
       "\n",
       "    .dataframe thead th {\n",
       "        text-align: right;\n",
       "    }\n",
       "</style>\n",
       "<table border=\"1\" class=\"dataframe\">\n",
       "  <thead>\n",
       "    <tr style=\"text-align: right;\">\n",
       "      <th></th>\n",
       "      <th>is_customizable</th>\n",
       "      <th>num_favorers</th>\n",
       "      <th>processing_max</th>\n",
       "      <th>processing_min</th>\n",
       "      <th>quantity</th>\n",
       "      <th>views</th>\n",
       "      <th>when_made</th>\n",
       "      <th>who_made</th>\n",
       "      <th>price_usd</th>\n",
       "      <th>contains_silver</th>\n",
       "      <th>...</th>\n",
       "      <th>Chandelier Earrings</th>\n",
       "      <th>Charm Bracelets</th>\n",
       "      <th>Charm Necklaces</th>\n",
       "      <th>Chokers</th>\n",
       "      <th>Clip On Earrings</th>\n",
       "      <th>Crystal Necklaces</th>\n",
       "      <th>Cuff Bracelets</th>\n",
       "      <th>Dangle &amp; Drop Earrings</th>\n",
       "      <th>Solitaire Rings</th>\n",
       "      <th>Stud Earrings</th>\n",
       "    </tr>\n",
       "  </thead>\n",
       "  <tbody>\n",
       "    <tr>\n",
       "      <th>151842</th>\n",
       "      <td>0</td>\n",
       "      <td>8.0</td>\n",
       "      <td>3.0</td>\n",
       "      <td>1.0</td>\n",
       "      <td>4.0</td>\n",
       "      <td>514.0</td>\n",
       "      <td>standard</td>\n",
       "      <td>i_did</td>\n",
       "      <td>8.000</td>\n",
       "      <td>0</td>\n",
       "      <td>...</td>\n",
       "      <td>0</td>\n",
       "      <td>0</td>\n",
       "      <td>0</td>\n",
       "      <td>0</td>\n",
       "      <td>0</td>\n",
       "      <td>0</td>\n",
       "      <td>0</td>\n",
       "      <td>0</td>\n",
       "      <td>0</td>\n",
       "      <td>1</td>\n",
       "    </tr>\n",
       "    <tr>\n",
       "      <th>261700</th>\n",
       "      <td>0</td>\n",
       "      <td>11.0</td>\n",
       "      <td>1.0</td>\n",
       "      <td>1.0</td>\n",
       "      <td>1.0</td>\n",
       "      <td>34.0</td>\n",
       "      <td>vintage</td>\n",
       "      <td>someone_else</td>\n",
       "      <td>49.750</td>\n",
       "      <td>1</td>\n",
       "      <td>...</td>\n",
       "      <td>0</td>\n",
       "      <td>0</td>\n",
       "      <td>0</td>\n",
       "      <td>0</td>\n",
       "      <td>0</td>\n",
       "      <td>0</td>\n",
       "      <td>0</td>\n",
       "      <td>0</td>\n",
       "      <td>1</td>\n",
       "      <td>0</td>\n",
       "    </tr>\n",
       "    <tr>\n",
       "      <th>264540</th>\n",
       "      <td>0</td>\n",
       "      <td>8.0</td>\n",
       "      <td>1.0</td>\n",
       "      <td>1.0</td>\n",
       "      <td>1.0</td>\n",
       "      <td>49.0</td>\n",
       "      <td>vintage</td>\n",
       "      <td>someone_else</td>\n",
       "      <td>24.990</td>\n",
       "      <td>0</td>\n",
       "      <td>...</td>\n",
       "      <td>0</td>\n",
       "      <td>0</td>\n",
       "      <td>0</td>\n",
       "      <td>0</td>\n",
       "      <td>0</td>\n",
       "      <td>0</td>\n",
       "      <td>0</td>\n",
       "      <td>0</td>\n",
       "      <td>0</td>\n",
       "      <td>0</td>\n",
       "    </tr>\n",
       "    <tr>\n",
       "      <th>144297</th>\n",
       "      <td>1</td>\n",
       "      <td>5.0</td>\n",
       "      <td>2.0</td>\n",
       "      <td>1.0</td>\n",
       "      <td>20.0</td>\n",
       "      <td>25.0</td>\n",
       "      <td>standard</td>\n",
       "      <td>i_did</td>\n",
       "      <td>6.027</td>\n",
       "      <td>1</td>\n",
       "      <td>...</td>\n",
       "      <td>0</td>\n",
       "      <td>0</td>\n",
       "      <td>0</td>\n",
       "      <td>0</td>\n",
       "      <td>0</td>\n",
       "      <td>0</td>\n",
       "      <td>0</td>\n",
       "      <td>0</td>\n",
       "      <td>0</td>\n",
       "      <td>0</td>\n",
       "    </tr>\n",
       "    <tr>\n",
       "      <th>252974</th>\n",
       "      <td>1</td>\n",
       "      <td>46.0</td>\n",
       "      <td>10.0</td>\n",
       "      <td>5.0</td>\n",
       "      <td>2.0</td>\n",
       "      <td>359.0</td>\n",
       "      <td>made_to_order</td>\n",
       "      <td>i_did</td>\n",
       "      <td>67.320</td>\n",
       "      <td>1</td>\n",
       "      <td>...</td>\n",
       "      <td>0</td>\n",
       "      <td>0</td>\n",
       "      <td>0</td>\n",
       "      <td>0</td>\n",
       "      <td>0</td>\n",
       "      <td>0</td>\n",
       "      <td>0</td>\n",
       "      <td>0</td>\n",
       "      <td>0</td>\n",
       "      <td>0</td>\n",
       "    </tr>\n",
       "  </tbody>\n",
       "</table>\n",
       "<p>5 rows × 35 columns</p>\n",
       "</div>"
      ],
      "text/plain": [
       "        is_customizable  num_favorers  processing_max  processing_min  \\\n",
       "151842                0           8.0             3.0             1.0   \n",
       "261700                0          11.0             1.0             1.0   \n",
       "264540                0           8.0             1.0             1.0   \n",
       "144297                1           5.0             2.0             1.0   \n",
       "252974                1          46.0            10.0             5.0   \n",
       "\n",
       "        quantity  views      when_made      who_made  price_usd  \\\n",
       "151842       4.0  514.0       standard         i_did      8.000   \n",
       "261700       1.0   34.0        vintage  someone_else     49.750   \n",
       "264540       1.0   49.0        vintage  someone_else     24.990   \n",
       "144297      20.0   25.0       standard         i_did      6.027   \n",
       "252974       2.0  359.0  made_to_order         i_did     67.320   \n",
       "\n",
       "        contains_silver  ...  Chandelier Earrings  Charm Bracelets  \\\n",
       "151842                0  ...                    0                0   \n",
       "261700                1  ...                    0                0   \n",
       "264540                0  ...                    0                0   \n",
       "144297                1  ...                    0                0   \n",
       "252974                1  ...                    0                0   \n",
       "\n",
       "        Charm Necklaces  Chokers  Clip On Earrings  Crystal Necklaces  \\\n",
       "151842                0        0                 0                  0   \n",
       "261700                0        0                 0                  0   \n",
       "264540                0        0                 0                  0   \n",
       "144297                0        0                 0                  0   \n",
       "252974                0        0                 0                  0   \n",
       "\n",
       "        Cuff Bracelets  Dangle & Drop Earrings  Solitaire Rings  Stud Earrings  \n",
       "151842               0                       0                0              1  \n",
       "261700               0                       0                1              0  \n",
       "264540               0                       0                0              0  \n",
       "144297               0                       0                0              0  \n",
       "252974               0                       0                0              0  \n",
       "\n",
       "[5 rows x 35 columns]"
      ]
     },
     "execution_count": 146,
     "metadata": {},
     "output_type": "execute_result"
    }
   ],
   "source": [
    "test_df.head()"
   ]
  },
  {
   "cell_type": "code",
   "execution_count": null,
   "metadata": {},
   "outputs": [],
   "source": [
    "plt.figure(figsize=(7,7))\n",
    "plt.scatter(data_cat.x,data_cat.y, c = np.array(clusters), s = data_cat['size'], cmap= 'jet')\n",
    "plt.title('clustered sensors - colors represent clusters', fontsize=14)\n",
    "plt.xlim(-1,12), plt.ylim(-1,12)\n",
    "plt.xlabel('x-coordinate', fontsize=14), plt.ylabel('y-coordinate', fontsize=14)\n",
    "plt.show()"
   ]
  }
 ],
 "metadata": {
  "kernelspec": {
   "display_name": "metis",
   "language": "python",
   "name": "metis"
  },
  "language_info": {
   "codemirror_mode": {
    "name": "ipython",
    "version": 3
   },
   "file_extension": ".py",
   "mimetype": "text/x-python",
   "name": "python",
   "nbconvert_exporter": "python",
   "pygments_lexer": "ipython3",
   "version": "3.6.8"
  }
 },
 "nbformat": 4,
 "nbformat_minor": 2
}
