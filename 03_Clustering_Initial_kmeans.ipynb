{
 "cells": [
  {
   "cell_type": "code",
   "execution_count": 77,
   "metadata": {},
   "outputs": [],
   "source": [
    "import pandas as pd\n",
    "import numpy as np\n",
    "import seaborn as sns\n",
    "import matplotlib.pyplot as plt\n",
    "# import sklearn\n",
    "from sklearn.preprocessing import scale\n",
    "from sklearn.cluster import KMeans\n",
    "from sklearn.datasets import make_blobs\n",
    "from sklearn.datasets import fetch_mldata\n",
    "from sklearn.model_selection import train_test_split\n",
    "from sklearn.utils import shuffle"
   ]
  },
  {
   "cell_type": "code",
   "execution_count": 2,
   "metadata": {},
   "outputs": [],
   "source": [
    "jewelry_df_bracelet_clean = pd.read_pickle('clean_bracelet_df.pkl')"
   ]
  },
  {
   "cell_type": "code",
   "execution_count": 5,
   "metadata": {
    "scrolled": true
   },
   "outputs": [
    {
     "data": {
      "text/plain": [
       "Index(['category_id', 'category_path', 'category_path_ids', 'creation_tsz',\n",
       "       'currency_code', 'description', 'ending_tsz', 'featured_rank',\n",
       "       'file_data', 'has_variations', 'is_customizable', 'is_digital',\n",
       "       'is_private', 'is_supply', 'item_dimensions_unit', 'item_height',\n",
       "       'item_length', 'item_weight', 'item_weight_unit', 'item_width',\n",
       "       'language', 'last_modified_tsz', 'listing_id', 'materials',\n",
       "       'non_taxable', 'num_favorers', 'occasion', 'original_creation_tsz',\n",
       "       'price', 'processing_max', 'processing_min', 'quantity', 'recipient',\n",
       "       'shipping_template_id', 'shop_section_id', 'should_auto_renew', 'sku',\n",
       "       'state', 'state_tsz', 'style', 'suggested_taxonomy_id', 'tags',\n",
       "       'taxonomy_id', 'taxonomy_path', 'title', 'url', 'used_manufacturer',\n",
       "       'user_id', 'views', 'when_made', 'who_made'],\n",
       "      dtype='object')"
      ]
     },
     "execution_count": 5,
     "metadata": {},
     "output_type": "execute_result"
    }
   ],
   "source": [
    "jewelry_df_bracelet_clean.columns"
   ]
  },
  {
   "cell_type": "markdown",
   "metadata": {},
   "source": [
    "#### Try k-means clustering on ONLY numeric columns"
   ]
  },
  {
   "cell_type": "code",
   "execution_count": 6,
   "metadata": {},
   "outputs": [],
   "source": [
    "cluster_columns = ['featured_rank','has_variations', 'is_customizable', 'num_favorers']"
   ]
  },
  {
   "cell_type": "markdown",
   "metadata": {},
   "source": [
    "##### Handle Nans - fill with 0"
   ]
  },
  {
   "cell_type": "code",
   "execution_count": 23,
   "metadata": {},
   "outputs": [],
   "source": [
    "#Fill Nans as 0s for Featured Rank, Processing min and max columns\n",
    "\n",
    "jewelry_df_bracelet_clean.featured_rank = jewelry_df_bracelet_clean.featured_rank.fillna(0)\n",
    "jewelry_df_bracelet_clean.processing_max = jewelry_df_bracelet_clean.processing_max.fillna(0)\n",
    "jewelry_df_bracelet_clean.processing_min = jewelry_df_bracelet_clean.processing_min.fillna(0)"
   ]
  },
  {
   "cell_type": "code",
   "execution_count": 62,
   "metadata": {},
   "outputs": [
    {
     "data": {
      "text/plain": [
       "processing_max    1873\n",
       "processing_min    1873\n",
       "dtype: int64"
      ]
     },
     "execution_count": 62,
     "metadata": {},
     "output_type": "execute_result"
    }
   ],
   "source": [
    "#check num of records where Processing Max & Min is Nan\n",
    "jewelry_df_bracelet_clean[['processing_max', 'processing_min']].isna().sum()"
   ]
  },
  {
   "cell_type": "markdown",
   "metadata": {},
   "source": [
    "##### If product has no listing id, or title or URL - invalid data point - drop rows"
   ]
  },
  {
   "cell_type": "code",
   "execution_count": 42,
   "metadata": {},
   "outputs": [],
   "source": [
    "#Drop listings for which there's no title or url - messy data\n",
    "idx = jewelry_df_bracelet_clean[['listing_id','title','url']][jewelry_df_bracelet_clean.num_favorers.isna()].index\n",
    "\n",
    "jewelry_df_bracelet_clean = jewelry_df_bracelet_clean.drop(index=idx)"
   ]
  },
  {
   "cell_type": "code",
   "execution_count": null,
   "metadata": {},
   "outputs": [],
   "source": []
  },
  {
   "cell_type": "markdown",
   "metadata": {},
   "source": [
    "##### Create Train Test Split on jewelry bracelet df"
   ]
  },
  {
   "cell_type": "code",
   "execution_count": 64,
   "metadata": {},
   "outputs": [],
   "source": [
    "(X_train, X_test) = train_test_split(jewelry_df_bracelet_clean,test_size=0.30)\n",
    "# Cluster using SOME columns\n",
    "# km = KMeans(n_clusters=8)\n",
    "# kmeans = km.fit(X_train[['featured_rank',#'has_variations', 'is_customizable', \n",
    "#                          'num_favorers','processing_max', 'processing_min']])"
   ]
  },
  {
   "cell_type": "code",
   "execution_count": 65,
   "metadata": {
    "scrolled": true
   },
   "outputs": [
    {
     "data": {
      "text/plain": [
       "array([[7.46513381e-01, 6.01388365e+00, 3.33135444e+00, 1.69616158e+00],\n",
       "       [6.96428571e-01, 1.04748214e+03, 4.17857143e+00, 2.19642857e+00],\n",
       "       [4.92063492e-01, 5.11513228e+02, 4.55026455e+00, 2.42328042e+00],\n",
       "       [0.00000000e+00, 3.44300000e+03, 3.14285714e+00, 1.28571429e+00],\n",
       "       [6.49224806e-01, 2.14085271e+02, 4.07364341e+00, 2.08139535e+00],\n",
       "       [1.11028571e+03, 7.00000000e+00, 3.85714286e+00, 1.00000000e+00],\n",
       "       [2.80000000e-01, 1.98888000e+03, 4.56000000e+00, 2.72000000e+00],\n",
       "       [3.01450589e-01, 6.75018132e+01, 4.09474161e+00, 2.13780598e+00]])"
      ]
     },
     "execution_count": 65,
     "metadata": {},
     "output_type": "execute_result"
    }
   ],
   "source": [
    "# kmeans.cluster_centers_"
   ]
  },
  {
   "cell_type": "markdown",
   "metadata": {},
   "source": [
    "#### Run the Kmeas to find optimal 'k' from elbow plot"
   ]
  },
  {
   "cell_type": "code",
   "execution_count": 66,
   "metadata": {},
   "outputs": [
    {
     "data": {
      "image/png": "[encoded data removed]",
      "text/plain": [
       "<Figure size 432x288 with 1 Axes>"
      ]
     },
     "metadata": {
      "needs_background": "light"
     },
     "output_type": "display_data"
    }
   ],
   "source": [
    "inertia = []\n",
    "\n",
    "num_clusters = range(1,11)\n",
    "\n",
    "for cluster in num_clusters:\n",
    "    km = KMeans(n_clusters=cluster)\n",
    "    km.fit(X_train[['featured_rank','processing_max', \n",
    "                    'processing_min', 'num_favorers']])\n",
    "    inertia.append(km.inertia_)\n",
    "\n",
    "plt.plot(list(num_clusters), inertia);"
   ]
  },
  {
   "cell_type": "markdown",
   "metadata": {},
   "source": [
    "###### Looks like 3 (can also try 4/5)"
   ]
  },
  {
   "cell_type": "code",
   "execution_count": 67,
   "metadata": {},
   "outputs": [
    {
     "data": {
      "text/plain": [
       "KMeans(algorithm='auto', copy_x=True, init='k-means++', max_iter=300,\n",
       "       n_clusters=3, n_init=10, n_jobs=None, precompute_distances='auto',\n",
       "       random_state=None, tol=0.0001, verbose=0)"
      ]
     },
     "execution_count": 67,
     "metadata": {},
     "output_type": "execute_result"
    }
   ],
   "source": [
    "km = KMeans(n_clusters=3)\n",
    "km.fit(X_train[['featured_rank','processing_max', \n",
    "                    'processing_min', 'num_favorers']])"
   ]
  },
  {
   "cell_type": "code",
   "execution_count": 68,
   "metadata": {},
   "outputs": [
    {
     "data": {
      "text/plain": [
       "array([[1.16314796e+00, 3.38829679e+00, 1.72824161e+00, 1.19144475e+01],\n",
       "       [1.66666667e-01, 3.80952381e+00, 2.09523810e+00, 2.08923810e+03],\n",
       "       [1.04569892e+00, 4.40860215e+00, 2.31451613e+00, 4.89432796e+02]])"
      ]
     },
     "execution_count": 68,
     "metadata": {},
     "output_type": "execute_result"
    }
   ],
   "source": [
    "km.cluster_centers_"
   ]
  },
  {
   "cell_type": "code",
   "execution_count": 78,
   "metadata": {},
   "outputs": [
    {
     "data": {
      "text/plain": [
       "array([0, 1, 2], dtype=int32)"
      ]
     },
     "execution_count": 78,
     "metadata": {},
     "output_type": "execute_result"
    }
   ],
   "source": [
    "#Cluster Labels (0,1,2)\n",
    "np.unique(km.labels_)"
   ]
  },
  {
   "cell_type": "markdown",
   "metadata": {},
   "source": [
    "##### Create a copy of the train dataframe to map clusters to all cols "
   ]
  },
  {
   "cell_type": "code",
   "execution_count": 80,
   "metadata": {},
   "outputs": [],
   "source": [
    "X_train_labeled = X_train.copy()"
   ]
  },
  {
   "cell_type": "code",
   "execution_count": 82,
   "metadata": {},
   "outputs": [],
   "source": [
    "X_train_labeled['Cluster_Label'] = km.labels_"
   ]
  },
  {
   "cell_type": "code",
   "execution_count": 90,
   "metadata": {},
   "outputs": [
    {
     "data": {
      "text/plain": [
       "0    34435\n",
       "2      372\n",
       "1       42\n",
       "Name: Cluster_Label, dtype: int64"
      ]
     },
     "execution_count": 90,
     "metadata": {},
     "output_type": "execute_result"
    }
   ],
   "source": [
    "X_train_labeled.Cluster_Label.value_counts()"
   ]
  },
  {
   "cell_type": "markdown",
   "metadata": {},
   "source": [
    "##### Avg Price per cluster - Naiive way to predict price"
   ]
  },
  {
   "cell_type": "code",
   "execution_count": 103,
   "metadata": {
    "scrolled": false
   },
   "outputs": [],
   "source": [
    "# X_train_labeled[['listing_id','title','featured_rank','processing_max', \n",
    "#                     'processing_min', 'num_favorers', 'Cluster_Label']]\n",
    "\n",
    "price_clust_1 = X_train_labeled[X_train_labeled.Cluster_Label ==1][['listing_id','title','price',\n",
    "                                                                    'featured_rank','processing_max', \n",
    "                    'processing_min', 'num_favorers', 'Cluster_Label']].price"
   ]
  },
  {
   "cell_type": "code",
   "execution_count": 118,
   "metadata": {},
   "outputs": [],
   "source": [
    "price_clust_1 = pd.to_numeric(price_clust_1)"
   ]
  },
  {
   "cell_type": "code",
   "execution_count": 120,
   "metadata": {},
   "outputs": [
    {
     "data": {
      "text/plain": [
       "74.39214285714286"
      ]
     },
     "execution_count": 120,
     "metadata": {},
     "output_type": "execute_result"
    }
   ],
   "source": [
    "price_clust_1.mean()"
   ]
  },
  {
   "cell_type": "code",
   "execution_count": 141,
   "metadata": {},
   "outputs": [],
   "source": [
    "X_train_labeled.price = X_train_labeled.price.astype(float)"
   ]
  },
  {
   "cell_type": "markdown",
   "metadata": {},
   "source": [
    "Create DF for avg price per cluster from train dataset"
   ]
  },
  {
   "cell_type": "code",
   "execution_count": 145,
   "metadata": {},
   "outputs": [],
   "source": [
    "price_clust_df = X_train_labeled.groupby('Cluster_Label')['price'].mean().reset_index()"
   ]
  },
  {
   "cell_type": "code",
   "execution_count": 146,
   "metadata": {},
   "outputs": [
    {
     "data": {
      "text/html": [
       "<div>\n",
       "<style scoped>\n",
       "    .dataframe tbody tr th:only-of-type {\n",
       "        vertical-align: middle;\n",
       "    }\n",
       "\n",
       "    .dataframe tbody tr th {\n",
       "        vertical-align: top;\n",
       "    }\n",
       "\n",
       "    .dataframe thead th {\n",
       "        text-align: right;\n",
       "    }\n",
       "</style>\n",
       "<table border=\"1\" class=\"dataframe\">\n",
       "  <thead>\n",
       "    <tr style=\"text-align: right;\">\n",
       "      <th></th>\n",
       "      <th>Cluster_Label</th>\n",
       "      <th>price</th>\n",
       "    </tr>\n",
       "  </thead>\n",
       "  <tbody>\n",
       "    <tr>\n",
       "      <th>0</th>\n",
       "      <td>0</td>\n",
       "      <td>86.709688</td>\n",
       "    </tr>\n",
       "    <tr>\n",
       "      <th>1</th>\n",
       "      <td>1</td>\n",
       "      <td>74.392143</td>\n",
       "    </tr>\n",
       "    <tr>\n",
       "      <th>2</th>\n",
       "      <td>2</td>\n",
       "      <td>100.765780</td>\n",
       "    </tr>\n",
       "  </tbody>\n",
       "</table>\n",
       "</div>"
      ],
      "text/plain": [
       "   Cluster_Label       price\n",
       "0              0   86.709688\n",
       "1              1   74.392143\n",
       "2              2  100.765780"
      ]
     },
     "execution_count": 146,
     "metadata": {},
     "output_type": "execute_result"
    }
   ],
   "source": [
    "price_clust_df"
   ]
  },
  {
   "cell_type": "code",
   "execution_count": 154,
   "metadata": {},
   "outputs": [
    {
     "data": {
      "text/plain": [
       "86.7096878176342"
      ]
     },
     "execution_count": 154,
     "metadata": {},
     "output_type": "execute_result"
    }
   ],
   "source": [
    "float(price_clust_df.price[price_clust_df.Cluster_Label == 0])"
   ]
  },
  {
   "cell_type": "markdown",
   "metadata": {},
   "source": [
    "#### Assign to New items"
   ]
  },
  {
   "cell_type": "code",
   "execution_count": 148,
   "metadata": {},
   "outputs": [
    {
     "data": {
      "text/html": [
       "<div>\n",
       "<style scoped>\n",
       "    .dataframe tbody tr th:only-of-type {\n",
       "        vertical-align: middle;\n",
       "    }\n",
       "\n",
       "    .dataframe tbody tr th {\n",
       "        vertical-align: top;\n",
       "    }\n",
       "\n",
       "    .dataframe thead th {\n",
       "        text-align: right;\n",
       "    }\n",
       "</style>\n",
       "<table border=\"1\" class=\"dataframe\">\n",
       "  <thead>\n",
       "    <tr style=\"text-align: right;\">\n",
       "      <th></th>\n",
       "      <th>featured_rank</th>\n",
       "      <th>processing_max</th>\n",
       "      <th>processing_min</th>\n",
       "      <th>num_favorers</th>\n",
       "    </tr>\n",
       "  </thead>\n",
       "  <tbody>\n",
       "    <tr>\n",
       "      <th>40274</th>\n",
       "      <td>0.0</td>\n",
       "      <td>3.0</td>\n",
       "      <td>1.0</td>\n",
       "      <td>8.0</td>\n",
       "    </tr>\n",
       "  </tbody>\n",
       "</table>\n",
       "</div>"
      ],
      "text/plain": [
       "       featured_rank  processing_max  processing_min  num_favorers\n",
       "40274            0.0             3.0             1.0           8.0"
      ]
     },
     "execution_count": 148,
     "metadata": {},
     "output_type": "execute_result"
    }
   ],
   "source": [
    "X_test[['featured_rank','processing_max', \n",
    "                    'processing_min', 'num_favorers']].head(1)"
   ]
  },
  {
   "cell_type": "code",
   "execution_count": 123,
   "metadata": {},
   "outputs": [],
   "source": [
    "# km.fit(X_train[['featured_rank','processing_max', \n",
    "#                     'processing_min', 'num_favorers']])"
   ]
  },
  {
   "cell_type": "code",
   "execution_count": 162,
   "metadata": {},
   "outputs": [
    {
     "data": {
      "text/plain": [
       "0"
      ]
     },
     "execution_count": 162,
     "metadata": {},
     "output_type": "execute_result"
    }
   ],
   "source": [
    "int(km.predict(X_test[['featured_rank','processing_max', \n",
    "                    'processing_min', 'num_favorers']].head(1)) )"
   ]
  },
  {
   "cell_type": "markdown",
   "metadata": {},
   "source": [
    "##### Function that takes user input and returns suggested price"
   ]
  },
  {
   "cell_type": "code",
   "execution_count": 163,
   "metadata": {},
   "outputs": [],
   "source": [
    "def predict_avg_price(df):\n",
    "    clust = int(km.predict(df))\n",
    "    return float(price_clust_df.price[price_clust_df.Cluster_Label == clust])"
   ]
  },
  {
   "cell_type": "code",
   "execution_count": 164,
   "metadata": {},
   "outputs": [
    {
     "data": {
      "text/plain": [
       "86.7096878176342"
      ]
     },
     "execution_count": 164,
     "metadata": {},
     "output_type": "execute_result"
    }
   ],
   "source": [
    "predict_avg_price(X_test[['featured_rank','processing_max','processing_min', 'num_favorers']].head(1))"
   ]
  },
  {
   "cell_type": "code",
   "execution_count": null,
   "metadata": {},
   "outputs": [],
   "source": []
  }
 ],
 "metadata": {
  "kernelspec": {
   "display_name": "metis",
   "language": "python",
   "name": "metis"
  },
  "language_info": {
   "codemirror_mode": {
    "name": "ipython",
    "version": 3
   },
   "file_extension": ".py",
   "mimetype": "text/x-python",
   "name": "python",
   "nbconvert_exporter": "python",
   "pygments_lexer": "ipython3",
   "version": "3.6.8"
  }
 },
 "nbformat": 4,
 "nbformat_minor": 2
}
