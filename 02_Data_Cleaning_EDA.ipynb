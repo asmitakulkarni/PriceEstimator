{
 "cells": [
  {
   "cell_type": "code",
   "execution_count": 105,
   "metadata": {},
   "outputs": [],
   "source": [
    "import pandas as pd\n",
    "import pickle\n"
   ]
  },
  {
   "cell_type": "markdown",
   "metadata": {},
   "source": [
    "Load results df - that is first attempt api response"
   ]
  },
  {
   "cell_type": "code",
   "execution_count": 3,
   "metadata": {},
   "outputs": [],
   "source": [
    "results_df = pd.read_pickle(\"./results_df.pkl\")\n",
    "\n"
   ]
  },
  {
   "cell_type": "markdown",
   "metadata": {},
   "source": [
    "##### Load all categories pkl files from API response"
   ]
  },
  {
   "cell_type": "code",
   "execution_count": 55,
   "metadata": {},
   "outputs": [],
   "source": [
    "with open('bracelet.pkl', 'rb') as f:\n",
    "    data_list_bracelet = pickle.load(f)\n",
    "    \n",
    "with open('earrings.pkl', 'rb') as f:\n",
    "    data_list_earrings = pickle.load(f)\n",
    "    \n",
    "with open('necklace.pkl', 'rb') as f:\n",
    "    data_list_necklace = pickle.load(f)\n",
    "\n",
    "with open('anklet.pkl', 'rb') as f:\n",
    "    data_list_anklet = pickle.load(f)\n",
    "\n",
    "with open('brooch.pkl', 'rb') as f:\n",
    "    data_list_brooch = pickle.load(f)\n",
    "\n",
    "with open('ring.pkl', 'rb') as f:\n",
    "    data_list_ring = pickle.load(f)\n",
    "\n",
    "with open('pendant.pkl', 'rb') as f:\n",
    "    data_list_pendant = pickle.load(f)\n",
    "    \n",
    "with open('piercing.pkl', 'rb') as f:\n",
    "    data_list_piercing = pickle.load(f)\n",
    "    "
   ]
  },
  {
   "cell_type": "markdown",
   "metadata": {},
   "source": [
    "##### Convert to df"
   ]
  },
  {
   "cell_type": "code",
   "execution_count": 56,
   "metadata": {},
   "outputs": [],
   "source": [
    "jewelry_df_bracelet = pd.DataFrame(data_list_bracelet)\n",
    "jewelry_df_earrings = pd.DataFrame(data_list_earrings)\n",
    "jewelry_df_necklace = pd.DataFrame(data_list_necklace)\n",
    "jewelry_df_anklet = pd.DataFrame(data_list_anklet)\n",
    "jewelry_df_brooch = pd.DataFrame(data_list_brooch)\n",
    "jewelry_df_ring = pd.DataFrame(data_list_ring)\n",
    "jewelry_df_pendant = pd.DataFrame(data_list_pendant)\n",
    "jewelry_df_pierching = pd.DataFrame(data_list_piercing)\n"
   ]
  },
  {
   "cell_type": "markdown",
   "metadata": {},
   "source": [
    "##### EDA & Cleaning"
   ]
  },
  {
   "cell_type": "code",
   "execution_count": 58,
   "metadata": {},
   "outputs": [
    {
     "name": "stdout",
     "output_type": "stream",
     "text": [
      "Bracelet 49777\n",
      "Earrings 49759\n",
      "Necklace 49749\n",
      "Anklet 45609\n",
      "Brooch 49786\n",
      "Ring 49779\n",
      "Pendant 16367\n",
      "Piercing 631\n"
     ]
    }
   ],
   "source": [
    "print('Bracelet',jewelry_df_bracelet.listing_id.nunique())\n",
    "print('Earrings',jewelry_df_earrings.listing_id.nunique())\n",
    "print('Necklace',jewelry_df_necklace.listing_id.nunique())\n",
    "print('Anklet',jewelry_df_anklet.listing_id.nunique())\n",
    "print('Brooch',jewelry_df_brooch.listing_id.nunique())\n",
    "print('Ring',jewelry_df_ring.listing_id.nunique())\n",
    "print('Pendant',jewelry_df_pendant.listing_id.nunique())\n",
    "print('Piercing',jewelry_df_pierching.listing_id.nunique())\n"
   ]
  },
  {
   "cell_type": "code",
   "execution_count": 107,
   "metadata": {},
   "outputs": [
    {
     "data": {
      "text/plain": [
       "['Jewelry', 'Ring']"
      ]
     },
     "execution_count": 107,
     "metadata": {},
     "output_type": "execute_result"
    }
   ],
   "source": [
    "jewelry_df_ring.category_path[1]\n"
   ]
  },
  {
   "cell_type": "code",
   "execution_count": 106,
   "metadata": {},
   "outputs": [
    {
     "data": {
      "text/plain": [
       "'Jewelry, Ring'"
      ]
     },
     "execution_count": 106,
     "metadata": {},
     "output_type": "execute_result"
    }
   ],
   "source": [
    "', '.join(jewelry_df_ring.category_path[1])\n",
    "\n"
   ]
  },
  {
   "cell_type": "code",
   "execution_count": 108,
   "metadata": {},
   "outputs": [
    {
     "data": {
      "text/html": [
       "<div>\n",
       "<style scoped>\n",
       "    .dataframe tbody tr th:only-of-type {\n",
       "        vertical-align: middle;\n",
       "    }\n",
       "\n",
       "    .dataframe tbody tr th {\n",
       "        vertical-align: top;\n",
       "    }\n",
       "\n",
       "    .dataframe thead th {\n",
       "        text-align: right;\n",
       "    }\n",
       "</style>\n",
       "<table border=\"1\" class=\"dataframe\">\n",
       "  <thead>\n",
       "    <tr style=\"text-align: right;\">\n",
       "      <th></th>\n",
       "      <th>category_id</th>\n",
       "      <th>category_path</th>\n",
       "      <th>category_path_ids</th>\n",
       "      <th>creation_tsz</th>\n",
       "      <th>currency_code</th>\n",
       "      <th>description</th>\n",
       "      <th>ending_tsz</th>\n",
       "      <th>featured_rank</th>\n",
       "      <th>file_data</th>\n",
       "      <th>has_variations</th>\n",
       "      <th>...</th>\n",
       "      <th>tags</th>\n",
       "      <th>taxonomy_id</th>\n",
       "      <th>taxonomy_path</th>\n",
       "      <th>title</th>\n",
       "      <th>url</th>\n",
       "      <th>used_manufacturer</th>\n",
       "      <th>user_id</th>\n",
       "      <th>views</th>\n",
       "      <th>when_made</th>\n",
       "      <th>who_made</th>\n",
       "    </tr>\n",
       "  </thead>\n",
       "  <tbody>\n",
       "    <tr>\n",
       "      <th>0</th>\n",
       "      <td>69152047.0</td>\n",
       "      <td>[Jewelry, Ring]</td>\n",
       "      <td>[68887482, 69152047]</td>\n",
       "      <td>1.556998e+09</td>\n",
       "      <td>USD</td>\n",
       "      <td>Azurite Malachite Ring 8 - Azurite Malachite R...</td>\n",
       "      <td>1.567625e+09</td>\n",
       "      <td>NaN</td>\n",
       "      <td></td>\n",
       "      <td>False</td>\n",
       "      <td>...</td>\n",
       "      <td>[malachite, malachite jewelry, malachite penda...</td>\n",
       "      <td>1238.0</td>\n",
       "      <td>[Jewelry, Rings, Solitaire Rings]</td>\n",
       "      <td>Azurite Malachite Ring 8 - Azurite Malachite 8...</td>\n",
       "      <td>https://www.etsy.com/listing/641105101/azurite...</td>\n",
       "      <td>False</td>\n",
       "      <td>33322813.0</td>\n",
       "      <td>75.0</td>\n",
       "      <td>2010_2019</td>\n",
       "      <td>collective</td>\n",
       "    </tr>\n",
       "    <tr>\n",
       "      <th>1</th>\n",
       "      <td>69152047.0</td>\n",
       "      <td>[Jewelry, Ring]</td>\n",
       "      <td>[68887482, 69152047]</td>\n",
       "      <td>1.556998e+09</td>\n",
       "      <td>GBP</td>\n",
       "      <td>Handmade embossed silver boxy oval ring. A cut...</td>\n",
       "      <td>1.567625e+09</td>\n",
       "      <td>NaN</td>\n",
       "      <td></td>\n",
       "      <td>True</td>\n",
       "      <td>...</td>\n",
       "      <td>[silver, copper, brass, ring, layering, textur...</td>\n",
       "      <td>1234.0</td>\n",
       "      <td>[Jewelry, Rings, Midi Rings]</td>\n",
       "      <td>silver oval ring</td>\n",
       "      <td>https://www.etsy.com/listing/277812090/silver-...</td>\n",
       "      <td>False</td>\n",
       "      <td>21909867.0</td>\n",
       "      <td>115.0</td>\n",
       "      <td>made_to_order</td>\n",
       "      <td>i_did</td>\n",
       "    </tr>\n",
       "    <tr>\n",
       "      <th>2</th>\n",
       "      <td>69152047.0</td>\n",
       "      <td>[Jewelry, Ring]</td>\n",
       "      <td>[68887482, 69152047]</td>\n",
       "      <td>1.556998e+09</td>\n",
       "      <td>USD</td>\n",
       "      <td>Emerald ring silver, Silver engagement ring, E...</td>\n",
       "      <td>1.567625e+09</td>\n",
       "      <td>NaN</td>\n",
       "      <td></td>\n",
       "      <td>True</td>\n",
       "      <td>...</td>\n",
       "      <td>[Emerald ring silver, Silver engagement, Emera...</td>\n",
       "      <td>1245.0</td>\n",
       "      <td>[Jewelry, Rings, Wedding &amp; Engagement, Engagem...</td>\n",
       "      <td>Emerald ring silver, Silver engagement ring,Em...</td>\n",
       "      <td>https://www.etsy.com/listing/526165588/emerald...</td>\n",
       "      <td>False</td>\n",
       "      <td>111014189.0</td>\n",
       "      <td>468.0</td>\n",
       "      <td>2010_2019</td>\n",
       "      <td>collective</td>\n",
       "    </tr>\n",
       "    <tr>\n",
       "      <th>3</th>\n",
       "      <td>69152047.0</td>\n",
       "      <td>[Jewelry, Ring]</td>\n",
       "      <td>[68887482, 69152047]</td>\n",
       "      <td>1.556998e+09</td>\n",
       "      <td>USD</td>\n",
       "      <td>Wedding ring silver, Wedding band silver, Whit...</td>\n",
       "      <td>1.567625e+09</td>\n",
       "      <td>NaN</td>\n",
       "      <td></td>\n",
       "      <td>True</td>\n",
       "      <td>...</td>\n",
       "      <td>[Wedding ring silver, Wedding band silver, Whi...</td>\n",
       "      <td>1247.0</td>\n",
       "      <td>[Jewelry, Rings, Wedding &amp; Engagement, Wedding...</td>\n",
       "      <td>Wedding ring silver, Wedding band silver, Whit...</td>\n",
       "      <td>https://www.etsy.com/listing/527555280/wedding...</td>\n",
       "      <td>False</td>\n",
       "      <td>111014189.0</td>\n",
       "      <td>298.0</td>\n",
       "      <td>2010_2019</td>\n",
       "      <td>collective</td>\n",
       "    </tr>\n",
       "    <tr>\n",
       "      <th>4</th>\n",
       "      <td>69152047.0</td>\n",
       "      <td>[Jewelry, Ring]</td>\n",
       "      <td>[68887482, 69152047]</td>\n",
       "      <td>1.567712e+09</td>\n",
       "      <td>USD</td>\n",
       "      <td>Copper Wrap Ring with Sterling Silver Stud\\n\\n...</td>\n",
       "      <td>1.578256e+09</td>\n",
       "      <td>NaN</td>\n",
       "      <td></td>\n",
       "      <td>False</td>\n",
       "      <td>...</td>\n",
       "      <td>[Sharon Wisely, make in the USA, silver stud r...</td>\n",
       "      <td>1231.0</td>\n",
       "      <td>[Jewelry, Rings]</td>\n",
       "      <td>Copper Wrap Ring with Sterling Silver Stud</td>\n",
       "      <td>https://www.etsy.com/listing/689930404/copper-...</td>\n",
       "      <td>False</td>\n",
       "      <td>11463010.0</td>\n",
       "      <td>102.0</td>\n",
       "      <td>2010_2019</td>\n",
       "      <td>i_did</td>\n",
       "    </tr>\n",
       "  </tbody>\n",
       "</table>\n",
       "<p>5 rows × 51 columns</p>\n",
       "</div>"
      ],
      "text/plain": [
       "   category_id    category_path     category_path_ids  creation_tsz  \\\n",
       "0   69152047.0  [Jewelry, Ring]  [68887482, 69152047]  1.556998e+09   \n",
       "1   69152047.0  [Jewelry, Ring]  [68887482, 69152047]  1.556998e+09   \n",
       "2   69152047.0  [Jewelry, Ring]  [68887482, 69152047]  1.556998e+09   \n",
       "3   69152047.0  [Jewelry, Ring]  [68887482, 69152047]  1.556998e+09   \n",
       "4   69152047.0  [Jewelry, Ring]  [68887482, 69152047]  1.567712e+09   \n",
       "\n",
       "  currency_code                                        description  \\\n",
       "0           USD  Azurite Malachite Ring 8 - Azurite Malachite R...   \n",
       "1           GBP  Handmade embossed silver boxy oval ring. A cut...   \n",
       "2           USD  Emerald ring silver, Silver engagement ring, E...   \n",
       "3           USD  Wedding ring silver, Wedding band silver, Whit...   \n",
       "4           USD  Copper Wrap Ring with Sterling Silver Stud\\n\\n...   \n",
       "\n",
       "     ending_tsz  featured_rank file_data has_variations  ...  \\\n",
       "0  1.567625e+09            NaN                    False  ...   \n",
       "1  1.567625e+09            NaN                     True  ...   \n",
       "2  1.567625e+09            NaN                     True  ...   \n",
       "3  1.567625e+09            NaN                     True  ...   \n",
       "4  1.578256e+09            NaN                    False  ...   \n",
       "\n",
       "                                                tags taxonomy_id  \\\n",
       "0  [malachite, malachite jewelry, malachite penda...      1238.0   \n",
       "1  [silver, copper, brass, ring, layering, textur...      1234.0   \n",
       "2  [Emerald ring silver, Silver engagement, Emera...      1245.0   \n",
       "3  [Wedding ring silver, Wedding band silver, Whi...      1247.0   \n",
       "4  [Sharon Wisely, make in the USA, silver stud r...      1231.0   \n",
       "\n",
       "                                       taxonomy_path  \\\n",
       "0                  [Jewelry, Rings, Solitaire Rings]   \n",
       "1                       [Jewelry, Rings, Midi Rings]   \n",
       "2  [Jewelry, Rings, Wedding & Engagement, Engagem...   \n",
       "3  [Jewelry, Rings, Wedding & Engagement, Wedding...   \n",
       "4                                   [Jewelry, Rings]   \n",
       "\n",
       "                                               title  \\\n",
       "0  Azurite Malachite Ring 8 - Azurite Malachite 8...   \n",
       "1                                   silver oval ring   \n",
       "2  Emerald ring silver, Silver engagement ring,Em...   \n",
       "3  Wedding ring silver, Wedding band silver, Whit...   \n",
       "4         Copper Wrap Ring with Sterling Silver Stud   \n",
       "\n",
       "                                                 url used_manufacturer  \\\n",
       "0  https://www.etsy.com/listing/641105101/azurite...             False   \n",
       "1  https://www.etsy.com/listing/277812090/silver-...             False   \n",
       "2  https://www.etsy.com/listing/526165588/emerald...             False   \n",
       "3  https://www.etsy.com/listing/527555280/wedding...             False   \n",
       "4  https://www.etsy.com/listing/689930404/copper-...             False   \n",
       "\n",
       "       user_id  views      when_made    who_made  \n",
       "0   33322813.0   75.0      2010_2019  collective  \n",
       "1   21909867.0  115.0  made_to_order       i_did  \n",
       "2  111014189.0  468.0      2010_2019  collective  \n",
       "3  111014189.0  298.0      2010_2019  collective  \n",
       "4   11463010.0  102.0      2010_2019       i_did  \n",
       "\n",
       "[5 rows x 51 columns]"
      ]
     },
     "execution_count": 108,
     "metadata": {},
     "output_type": "execute_result"
    }
   ],
   "source": [
    "jewelry_df_ring.head()\n",
    "\n"
   ]
  },
  {
   "cell_type": "markdown",
   "metadata": {},
   "source": [
    "##### Merge all sub dfs to one jewelry df"
   ]
  },
  {
   "cell_type": "code",
   "execution_count": 225,
   "metadata": {},
   "outputs": [],
   "source": [
    "jewelry_df_bracelet_clean = jewelry_df_bracelet.copy()\n",
    "# jewelry_df_earrings\n",
    "# jewelry_df_necklace\n",
    "# jewelry_df_anklet\n",
    "# jewelry_df_brooch\n",
    "# jewelry_df_ring\n",
    "# jewelry_df_pendant\n",
    "# jewelry_df_pierching\n"
   ]
  },
  {
   "cell_type": "code",
   "execution_count": 227,
   "metadata": {},
   "outputs": [],
   "source": [
    "# jewelry_df_bracelet_clean.head()"
   ]
  },
  {
   "cell_type": "code",
   "execution_count": 111,
   "metadata": {},
   "outputs": [],
   "source": [
    "#columns interesting for clustering - description, featured_rank, has_var?,customizable, materials,\n",
    "#num_fav,ocassion\n",
    "\n",
    "\n",
    "#Pickle Cleaned DF ---\n",
    "jewelry_df_bracelet_clean.to_pickle('clean_bracelet_df.pkl')"
   ]
  },
  {
   "cell_type": "code",
   "execution_count": 228,
   "metadata": {},
   "outputs": [],
   "source": [
    "#Columns that can be dropped - 'category_id','category_path_ids','shipping_template_id',\n",
    "                                #'shop_section_id','suggested_taxonomy_id','taxonomy_id','url'\n",
    "\n",
    "#CONVERT PRICE TO USD"
   ]
  },
  {
   "cell_type": "code",
   "execution_count": 131,
   "metadata": {},
   "outputs": [],
   "source": [
    "# jewelry_df_bracelet_clean = jewelry_df_bracelet_clean.drop_duplicates(keep = 'first')\n",
    "\n",
    "# jewelry_df_bracelet_clean.head()\n"
   ]
  },
  {
   "cell_type": "code",
   "execution_count": 124,
   "metadata": {},
   "outputs": [],
   "source": [
    "def convert_list_col(lst):\n",
    "    try:\n",
    "        return ', '.join(lst)\n",
    "    except TypeError:\n",
    "        return ''\n"
   ]
  },
  {
   "cell_type": "code",
   "execution_count": 229,
   "metadata": {},
   "outputs": [
    {
     "data": {
      "text/plain": [
       "'Jewelry, Bracelet'"
      ]
     },
     "execution_count": 229,
     "metadata": {},
     "output_type": "execute_result"
    }
   ],
   "source": [
    "convert_list_col(jewelry_df_bracelet_clean.category_path[1])"
   ]
  },
  {
   "cell_type": "code",
   "execution_count": 230,
   "metadata": {},
   "outputs": [],
   "source": [
    "jewelry_df_bracelet_clean.category_path = jewelry_df_bracelet_clean.category_path.apply(convert_list_col)"
   ]
  },
  {
   "cell_type": "code",
   "execution_count": 231,
   "metadata": {},
   "outputs": [
    {
     "data": {
      "text/plain": [
       "Jewelry, Bracelet                    49065\n",
       "Jewelry, Bracelet, Beaded              171\n",
       "Jewelry, Bracelet, Charm Bracelet      114\n",
       "Jewelry, Bracelet, Stone                77\n",
       "Jewelry, Bracelet, Bangle               66\n",
       "Jewelry, Bracelet, Cuff                 52\n",
       "Jewelry, Bracelet, Metal                50\n",
       "Jewelry, Bracelet, Glass                36\n",
       "Jewelry, Bracelet, Beadweaving          35\n",
       "Jewelry, Bracelet, Metalwork            34\n",
       "Jewelry, Bracelet, Wire Wrapped         24\n",
       "Jewelry, Bracelet, Chainmaille          18\n",
       "Jewelry, Bracelet, Beadwork             16\n",
       "Jewelry, Bracelet, Fiber                15\n",
       "                                        11\n",
       "Jewelry, Bracelet, Shell                 5\n",
       "Jewelry, Bracelet, Plastic               4\n",
       "Jewelry, Bracelet, Resin                 3\n",
       "Jewelry, Bracelet, Polymer Clay          2\n",
       "Jewelry, Bracelet, Felt                  1\n",
       "Jewelry, Bracelet, Wood                  1\n",
       "Name: category_path, dtype: int64"
      ]
     },
     "execution_count": 231,
     "metadata": {},
     "output_type": "execute_result"
    }
   ],
   "source": [
    "jewelry_df_bracelet_clean.category_path.value_counts()"
   ]
  },
  {
   "cell_type": "code",
   "execution_count": 232,
   "metadata": {},
   "outputs": [],
   "source": [
    "#Drop columns from jewelry clean bracelet df -- 'category_id','category_path_ids','shipping_template_id',\n",
    "                                #'shop_section_id','suggested_taxonomy_id','taxonomy_id','url'\n",
    "\n",
    "    \n",
    "jewelry_df_bracelet_clean = jewelry_df_bracelet_clean.drop(columns=['category_id','category_path_ids',\n",
    "                                                                    'shipping_template_id',\n",
    "                                'shop_section_id','suggested_taxonomy_id','taxonomy_id','url'])"
   ]
  },
  {
   "cell_type": "code",
   "execution_count": 233,
   "metadata": {},
   "outputs": [
    {
     "data": {
      "text/html": [
       "<div>\n",
       "<style scoped>\n",
       "    .dataframe tbody tr th:only-of-type {\n",
       "        vertical-align: middle;\n",
       "    }\n",
       "\n",
       "    .dataframe tbody tr th {\n",
       "        vertical-align: top;\n",
       "    }\n",
       "\n",
       "    .dataframe thead th {\n",
       "        text-align: right;\n",
       "    }\n",
       "</style>\n",
       "<table border=\"1\" class=\"dataframe\">\n",
       "  <thead>\n",
       "    <tr style=\"text-align: right;\">\n",
       "      <th></th>\n",
       "      <th>category_path</th>\n",
       "      <th>creation_tsz</th>\n",
       "      <th>currency_code</th>\n",
       "      <th>description</th>\n",
       "      <th>ending_tsz</th>\n",
       "      <th>featured_rank</th>\n",
       "      <th>file_data</th>\n",
       "      <th>has_variations</th>\n",
       "      <th>is_customizable</th>\n",
       "      <th>is_digital</th>\n",
       "      <th>...</th>\n",
       "      <th>state_tsz</th>\n",
       "      <th>style</th>\n",
       "      <th>tags</th>\n",
       "      <th>taxonomy_path</th>\n",
       "      <th>title</th>\n",
       "      <th>used_manufacturer</th>\n",
       "      <th>user_id</th>\n",
       "      <th>views</th>\n",
       "      <th>when_made</th>\n",
       "      <th>who_made</th>\n",
       "    </tr>\n",
       "  </thead>\n",
       "  <tbody>\n",
       "    <tr>\n",
       "      <th>0</th>\n",
       "      <td>Jewelry, Bracelet</td>\n",
       "      <td>1.556947e+09</td>\n",
       "      <td>USD</td>\n",
       "      <td>Green and yellow glass bead stretch bracelet w...</td>\n",
       "      <td>1.567574e+09</td>\n",
       "      <td>NaN</td>\n",
       "      <td></td>\n",
       "      <td>True</td>\n",
       "      <td>False</td>\n",
       "      <td>False</td>\n",
       "      <td>...</td>\n",
       "      <td>1.540190e+09</td>\n",
       "      <td>None</td>\n",
       "      <td>[green n yellow, green bracelets, yellow brace...</td>\n",
       "      <td>[Jewelry, Bracelets, Beaded Bracelets]</td>\n",
       "      <td>Green and yellow bead stretch bracelet</td>\n",
       "      <td>False</td>\n",
       "      <td>29661480.0</td>\n",
       "      <td>6.0</td>\n",
       "      <td>2010_2019</td>\n",
       "      <td>i_did</td>\n",
       "    </tr>\n",
       "    <tr>\n",
       "      <th>1</th>\n",
       "      <td>Jewelry, Bracelet</td>\n",
       "      <td>1.556947e+09</td>\n",
       "      <td>USD</td>\n",
       "      <td>These are handmade bracelets available in many...</td>\n",
       "      <td>1.567574e+09</td>\n",
       "      <td>NaN</td>\n",
       "      <td></td>\n",
       "      <td>True</td>\n",
       "      <td>True</td>\n",
       "      <td>False</td>\n",
       "      <td>...</td>\n",
       "      <td>1.546496e+09</td>\n",
       "      <td>None</td>\n",
       "      <td>[anxiety, anxiety bracelets, lava beads, calmi...</td>\n",
       "      <td>[Jewelry, Bracelets, Beaded Bracelets]</td>\n",
       "      <td>Anxiety Bracelets</td>\n",
       "      <td>False</td>\n",
       "      <td>60791752.0</td>\n",
       "      <td>25.0</td>\n",
       "      <td>made_to_order</td>\n",
       "      <td>i_did</td>\n",
       "    </tr>\n",
       "    <tr>\n",
       "      <th>2</th>\n",
       "      <td>Jewelry, Bracelet</td>\n",
       "      <td>1.556947e+09</td>\n",
       "      <td>USD</td>\n",
       "      <td>These coins on this bracelet are all from CANA...</td>\n",
       "      <td>1.567574e+09</td>\n",
       "      <td>NaN</td>\n",
       "      <td></td>\n",
       "      <td>False</td>\n",
       "      <td>True</td>\n",
       "      <td>False</td>\n",
       "      <td>...</td>\n",
       "      <td>1.528361e+09</td>\n",
       "      <td>None</td>\n",
       "      <td>[bangle, gift, adustable bangle, vintage brace...</td>\n",
       "      <td>[Jewelry, Bracelets, Bangles]</td>\n",
       "      <td>Canada! Bangle with Salvaged Vintage Coin, Adj...</td>\n",
       "      <td>False</td>\n",
       "      <td>79737247.0</td>\n",
       "      <td>27.0</td>\n",
       "      <td>2010_2019</td>\n",
       "      <td>i_did</td>\n",
       "    </tr>\n",
       "    <tr>\n",
       "      <th>3</th>\n",
       "      <td>Jewelry, Bracelet</td>\n",
       "      <td>1.556947e+09</td>\n",
       "      <td>USD</td>\n",
       "      <td>This is a bracelet handmade with salvaged vint...</td>\n",
       "      <td>1.567574e+09</td>\n",
       "      <td>NaN</td>\n",
       "      <td></td>\n",
       "      <td>False</td>\n",
       "      <td>True</td>\n",
       "      <td>False</td>\n",
       "      <td>...</td>\n",
       "      <td>1.528361e+09</td>\n",
       "      <td>None</td>\n",
       "      <td>[bangle, gift, adustable bangle, vintage, brac...</td>\n",
       "      <td>[Jewelry, Bracelets, Bangles]</td>\n",
       "      <td>Brazil, Venezuela, &amp; Mexico! Bangle with Salva...</td>\n",
       "      <td>False</td>\n",
       "      <td>79737247.0</td>\n",
       "      <td>44.0</td>\n",
       "      <td>2010_2019</td>\n",
       "      <td>i_did</td>\n",
       "    </tr>\n",
       "    <tr>\n",
       "      <th>4</th>\n",
       "      <td>Jewelry, Bracelet</td>\n",
       "      <td>1.556947e+09</td>\n",
       "      <td>USD</td>\n",
       "      <td>Fun to wear triple wrap leather beaded bracele...</td>\n",
       "      <td>1.567574e+09</td>\n",
       "      <td>NaN</td>\n",
       "      <td></td>\n",
       "      <td>False</td>\n",
       "      <td>False</td>\n",
       "      <td>False</td>\n",
       "      <td>...</td>\n",
       "      <td>1.494125e+09</td>\n",
       "      <td>[Country Western, Southwestern]</td>\n",
       "      <td>[women, beaded, brown, beige, turquoise, wrap ...</td>\n",
       "      <td>[Jewelry, Bracelets]</td>\n",
       "      <td>Triple wrap leather bracelet with varying Czec...</td>\n",
       "      <td>False</td>\n",
       "      <td>30363083.0</td>\n",
       "      <td>132.0</td>\n",
       "      <td>2010_2019</td>\n",
       "      <td>i_did</td>\n",
       "    </tr>\n",
       "  </tbody>\n",
       "</table>\n",
       "<p>5 rows × 44 columns</p>\n",
       "</div>"
      ],
      "text/plain": [
       "       category_path  creation_tsz currency_code  \\\n",
       "0  Jewelry, Bracelet  1.556947e+09           USD   \n",
       "1  Jewelry, Bracelet  1.556947e+09           USD   \n",
       "2  Jewelry, Bracelet  1.556947e+09           USD   \n",
       "3  Jewelry, Bracelet  1.556947e+09           USD   \n",
       "4  Jewelry, Bracelet  1.556947e+09           USD   \n",
       "\n",
       "                                         description    ending_tsz  \\\n",
       "0  Green and yellow glass bead stretch bracelet w...  1.567574e+09   \n",
       "1  These are handmade bracelets available in many...  1.567574e+09   \n",
       "2  These coins on this bracelet are all from CANA...  1.567574e+09   \n",
       "3  This is a bracelet handmade with salvaged vint...  1.567574e+09   \n",
       "4  Fun to wear triple wrap leather beaded bracele...  1.567574e+09   \n",
       "\n",
       "   featured_rank file_data has_variations is_customizable is_digital  ...  \\\n",
       "0            NaN                     True           False      False  ...   \n",
       "1            NaN                     True            True      False  ...   \n",
       "2            NaN                    False            True      False  ...   \n",
       "3            NaN                    False            True      False  ...   \n",
       "4            NaN                    False           False      False  ...   \n",
       "\n",
       "      state_tsz                            style  \\\n",
       "0  1.540190e+09                             None   \n",
       "1  1.546496e+09                             None   \n",
       "2  1.528361e+09                             None   \n",
       "3  1.528361e+09                             None   \n",
       "4  1.494125e+09  [Country Western, Southwestern]   \n",
       "\n",
       "                                                tags  \\\n",
       "0  [green n yellow, green bracelets, yellow brace...   \n",
       "1  [anxiety, anxiety bracelets, lava beads, calmi...   \n",
       "2  [bangle, gift, adustable bangle, vintage brace...   \n",
       "3  [bangle, gift, adustable bangle, vintage, brac...   \n",
       "4  [women, beaded, brown, beige, turquoise, wrap ...   \n",
       "\n",
       "                            taxonomy_path  \\\n",
       "0  [Jewelry, Bracelets, Beaded Bracelets]   \n",
       "1  [Jewelry, Bracelets, Beaded Bracelets]   \n",
       "2           [Jewelry, Bracelets, Bangles]   \n",
       "3           [Jewelry, Bracelets, Bangles]   \n",
       "4                    [Jewelry, Bracelets]   \n",
       "\n",
       "                                               title used_manufacturer  \\\n",
       "0             Green and yellow bead stretch bracelet             False   \n",
       "1                                  Anxiety Bracelets             False   \n",
       "2  Canada! Bangle with Salvaged Vintage Coin, Adj...             False   \n",
       "3  Brazil, Venezuela, & Mexico! Bangle with Salva...             False   \n",
       "4  Triple wrap leather bracelet with varying Czec...             False   \n",
       "\n",
       "      user_id  views      when_made  who_made  \n",
       "0  29661480.0    6.0      2010_2019     i_did  \n",
       "1  60791752.0   25.0  made_to_order     i_did  \n",
       "2  79737247.0   27.0      2010_2019     i_did  \n",
       "3  79737247.0   44.0      2010_2019     i_did  \n",
       "4  30363083.0  132.0      2010_2019     i_did  \n",
       "\n",
       "[5 rows x 44 columns]"
      ]
     },
     "execution_count": 233,
     "metadata": {},
     "output_type": "execute_result"
    }
   ],
   "source": [
    "jewelry_df_bracelet_clean.head()"
   ]
  },
  {
   "cell_type": "markdown",
   "metadata": {},
   "source": [
    "#### Featured Rank Cleaning"
   ]
  },
  {
   "cell_type": "markdown",
   "metadata": {},
   "source": [
    "Featured rank is assigned to a product when its on the featured listing -- closer to 0 higher the rank. Setting all nans to a large number (something like 9999 to portray that is isnt featured)"
   ]
  },
  {
   "cell_type": "code",
   "execution_count": 234,
   "metadata": {
    "scrolled": true
   },
   "outputs": [],
   "source": [
    "# jewelry_df_bracelet_clean[~jewelry_df_bracelet_clean.featured_rank.isna()]\n",
    "# jewelry_df_bracelet_clean.featured_rank.min()\n",
    "\n",
    "jewelry_df_bracelet_clean.featured_rank = jewelry_df_bracelet_clean.featured_rank.fillna(9999)"
   ]
  },
  {
   "cell_type": "markdown",
   "metadata": {},
   "source": [
    "#### Boolean Fields convert"
   ]
  },
  {
   "cell_type": "markdown",
   "metadata": {},
   "source": [
    "is_customizable - convert Nan to 0s and convert the column to 0(False) and 1(True)"
   ]
  },
  {
   "cell_type": "code",
   "execution_count": 238,
   "metadata": {},
   "outputs": [
    {
     "data": {
      "text/plain": [
       "0    49265\n",
       "1      535\n",
       "Name: is_supply, dtype: int64"
      ]
     },
     "execution_count": 238,
     "metadata": {},
     "output_type": "execute_result"
    }
   ],
   "source": [
    "# jewelry_df_bracelet_clean[jewelry_df_bracelet_clean.is_supply.isna()]\n",
    "jewelry_df_bracelet_clean.is_supply.value_counts()"
   ]
  },
  {
   "cell_type": "code",
   "execution_count": 235,
   "metadata": {},
   "outputs": [],
   "source": [
    "jewelry_df_bracelet_clean.is_customizable = jewelry_df_bracelet_clean.is_customizable.fillna(False)\n",
    "jewelry_df_bracelet_clean.is_digital = jewelry_df_bracelet_clean.is_digital.fillna(False)\n",
    "jewelry_df_bracelet_clean.is_supply = jewelry_df_bracelet_clean.is_supply.fillna(False)"
   ]
  },
  {
   "cell_type": "code",
   "execution_count": 163,
   "metadata": {},
   "outputs": [],
   "source": [
    "def convert_bool_col(boolc):\n",
    "    return int(boolc)"
   ]
  },
  {
   "cell_type": "code",
   "execution_count": 199,
   "metadata": {},
   "outputs": [],
   "source": [
    "def convert_str_bool_col(strcol):\n",
    "    if type(strcol) == str:\n",
    "        if strcol == 'false':\n",
    "            return 0\n",
    "        elif strcol == 'true':\n",
    "            return 1\n",
    "    elif type(strcol) == bool:\n",
    "        return int(strcol)\n"
   ]
  },
  {
   "cell_type": "code",
   "execution_count": 203,
   "metadata": {},
   "outputs": [
    {
     "data": {
      "text/plain": [
       "1"
      ]
     },
     "execution_count": 203,
     "metadata": {},
     "output_type": "execute_result"
    }
   ],
   "source": [
    "convert_str_bool_col(True)"
   ]
  },
  {
   "cell_type": "code",
   "execution_count": 237,
   "metadata": {},
   "outputs": [],
   "source": [
    "jewelry_df_bracelet_clean.is_customizable = jewelry_df_bracelet_clean.is_customizable.apply(convert_bool_col)\n",
    "jewelry_df_bracelet_clean.is_digital = jewelry_df_bracelet_clean.is_digital.apply(convert_bool_col)\n",
    "jewelry_df_bracelet_clean.is_supply = jewelry_df_bracelet_clean.is_supply.apply(convert_str_bool_col)"
   ]
  },
  {
   "cell_type": "markdown",
   "metadata": {},
   "source": [
    "####  Drop More Columns"
   ]
  },
  {
   "cell_type": "code",
   "execution_count": 239,
   "metadata": {},
   "outputs": [],
   "source": [
    "jewelry_df_bracelet_clean = jewelry_df_bracelet_clean.drop(columns=['file_data'])\n",
    "jewelry_df_bracelet_clean = jewelry_df_bracelet_clean.drop(columns=['has_variations'])\n",
    "jewelry_df_bracelet_clean = jewelry_df_bracelet_clean.drop(columns=['is_private'])\n",
    "jewelry_df_bracelet_clean = jewelry_df_bracelet_clean.drop(columns=['item_dimensions_unit','item_height',\n",
    "                                                                   'item_length','item_weight','item_weight_unit',\n",
    "                                                                    'item_width'])"
   ]
  },
  {
   "cell_type": "markdown",
   "metadata": {},
   "source": [
    "#### Records that have text fields in languages other than English -- drop! (150 records for bracelets out of ~50k)"
   ]
  },
  {
   "cell_type": "code",
   "execution_count": 247,
   "metadata": {},
   "outputs": [
    {
     "data": {
      "text/plain": [
       "en-US         45742\n",
       "MACHINE_en     3908\n",
       "Name: language, dtype: int64"
      ]
     },
     "execution_count": 247,
     "metadata": {},
     "output_type": "execute_result"
    }
   ],
   "source": [
    "# jewelry_df_bracelet_clean[jewelry_df_bracelet_clean.language.isna()]\n",
    "\n",
    "# jewelry_df_bracelet_clean.language = jewelry_df_bracelet_clean.language.fillna('na')\n",
    "\n",
    "jewelry_df_bracelet_clean.language.value_counts()"
   ]
  },
  {
   "cell_type": "code",
   "execution_count": 246,
   "metadata": {
    "scrolled": true
   },
   "outputs": [],
   "source": [
    "jewelry_df_bracelet_clean = jewelry_df_bracelet_clean[jewelry_df_bracelet_clean.language.isin(['en-US','MACHINE_en'])]\n"
   ]
  },
  {
   "cell_type": "markdown",
   "metadata": {},
   "source": [
    "#### Drop Date fields - creation, ending, last_modified date, original creation, state date"
   ]
  },
  {
   "cell_type": "code",
   "execution_count": 253,
   "metadata": {},
   "outputs": [],
   "source": [
    "jewelry_df_bracelet_clean = jewelry_df_bracelet_clean.drop(columns=['creation_tsz','last_modified_tsz',\n",
    "                                                                   'original_creation_tsz','state_tsz'])\n",
    "jewelry_df_bracelet_clean = jewelry_df_bracelet_clean.drop(columns=['language'])"
   ]
  },
  {
   "cell_type": "markdown",
   "metadata": {},
   "source": [
    "#### Convert Materials - list to string"
   ]
  },
  {
   "cell_type": "code",
   "execution_count": 262,
   "metadata": {
    "scrolled": true
   },
   "outputs": [
    {
     "data": {
      "text/plain": [
       "                                                                                                                                                                9282\n",
       "Silver                                                                                                                                                          2284\n",
       "Glass                                                                                                                                                           1356\n",
       "Gemstone                                                                                                                                                        1284\n",
       "Leather                                                                                                                                                          733\n",
       "Stainless steel                                                                                                                                                  526\n",
       "Aluminum                                                                                                                                                         461\n",
       "Gold                                                                                                                                                             372\n",
       "Brass                                                                                                                                                            350\n",
       "Copper                                                                                                                                                           314\n",
       "sterling silver                                                                                                                                                  299\n",
       "Pearl                                                                                                                                                            256\n",
       "Cotton                                                                                                                                                           253\n",
       "Turquoise                                                                                                                                                        246\n",
       "Jade                                                                                                                                                             219\n",
       "Plastic                                                                                                                                                          198\n",
       "Sterling Silver                                                                                                                                                  176\n",
       "Wood & nut                                                                                                                                                       176\n",
       "Silver, Gemstone                                                                                                                                                 166\n",
       "Crystal                                                                                                                                                          162\n",
       "Quartz                                                                                                                                                           145\n",
       "Onyx                                                                                                                                                             141\n",
       "Gemstone, Silver                                                                                                                                                 136\n",
       "Amethyst                                                                                                                                                         128\n",
       "Steel                                                                                                                                                            117\n",
       "Silver, Glass                                                                                                                                                    115\n",
       "Glass, Silver                                                                                                                                                    113\n",
       "Wood                                                                                                                                                             107\n",
       "Plastic & resin                                                                                                                                                  105\n",
       "Stone, Silver                                                                                                                                                     99\n",
       "                                                                                                                                                                ... \n",
       "Aluminium, navy blue leather                                                                                                                                       1\n",
       "High quality Umba sapphire rondelles, 14k gold filled beads, 14k gold filled chain, AAA pink topaz charm                                                           1\n",
       "sterling silver 925, macrame bracelet, tiger eye, 6 mm, gold filled                                                                                                1\n",
       "crystal, stretchable elastic cord                                                                                                                                  1\n",
       "4mm Crystal Bicones, 6mm Glass Pearls, 4mm Glass Pearls, Lobster Claw Clasp, Size 11 seed beads                                                                    1\n",
       "woven string, metal charms                                                                                                                                         1\n",
       "Citrine roundels, Sterling Silver, Sterling hook and eye clasp, 3mm seamless sterling beads, Sterling Bali accent beads, Bezel set citrine in sterling frame       1\n",
       "Magnetite                                                                                                                                                          1\n",
       "swarovski crystals, 14k gold filled wire, 14k gold filled lobster clasp, cubic zirconia                                                                            1\n",
       "14k Gold Filled Chain, 14k Gold Filled Beads, 14k Gold Filled Disc                                                                                                 1\n",
       "matte african turquoise, matte golden sunstone                                                                                                                     1\n",
       "metal, bracelet, cuff, sterling silver                                                                                                                             1\n",
       "Lava Rock Beads, Elastic Band, faceted gemstone beads                                                                                                              1\n",
       "Stainless Steel, Glass Beads, Sand Dollar Silver Charm, Sand Dollar                                                                                                1\n",
       "sun charm, aluminum heart, metal stamps                                                                                                                            1\n",
       "Gold, Glass, Turquoise, Crystal, Porcelain & ceramic                                                                                                               1\n",
       "epoxy resin, rainbow glitter, rainbow sprinkles, star confetti, magenta pigment                                                                                    1\n",
       "Leather, Pewter, Silver                                                                                                                                            1\n",
       "glass beads, photo charms, resin, charms, bracelet, toggle, silver plated                                                                                          1\n",
       "800 Silver                                                                                                                                                         1\n",
       "Stainless Steel Engraved Charm, Stainless Steel, A Sister Is Gods Way Of Making Sure we, Never Walk Alone, Stainless Steel Bangle                                  1\n",
       "chunky, 6 to 8 inch long, perfectly matched, authentic stones, adjustable length, orange, bracelet, 925 silver, silver, carnelian                                  1\n",
       "Lapis Lazuli chip beads, hard memory wire                                                                                                                          1\n",
       "Crystal, Pearl & shell, Glass, Pearl                                                                                                                               1\n",
       "metal alloy, chain, crystal beads, metal beads, seahorse charm                                                                                                     1\n",
       "druzy gemstone, gemstone, gold filled wire                                                                                                                         1\n",
       "luminous green, wire, Swarovski crystal, Pave 10 mm, butterfly toggle, Cultured pearl                                                                              1\n",
       "pearls, quartz, sterling                                                                                                                                           1\n",
       "nylon cord, sea shell, vintage glass bead, Czech glass beads                                                                                                       1\n",
       "Stainless steel, Silver, Stone, Obsidian                                                                                                                           1\n",
       "Name: materials, Length: 16898, dtype: int64"
      ]
     },
     "execution_count": 262,
     "metadata": {},
     "output_type": "execute_result"
    }
   ],
   "source": [
    "jewelry_df_bracelet_clean.materials.value_counts()"
   ]
  },
  {
   "cell_type": "code",
   "execution_count": 257,
   "metadata": {},
   "outputs": [],
   "source": [
    "def convert_list_col_notry(lst):\n",
    "    return ', '.join(lst)"
   ]
  },
  {
   "cell_type": "code",
   "execution_count": 258,
   "metadata": {},
   "outputs": [],
   "source": [
    "jewelry_df_bracelet_clean.materials = jewelry_df_bracelet_clean.materials.apply(convert_list_col_notry)"
   ]
  },
  {
   "cell_type": "markdown",
   "metadata": {},
   "source": [
    "#### Ocassion & Descr"
   ]
  },
  {
   "cell_type": "code",
   "execution_count": 279,
   "metadata": {
    "scrolled": false
   },
   "outputs": [],
   "source": [
    "jewelry_df_bracelet_clean.occasion = jewelry_df_bracelet_clean.occasion.fillna('None')"
   ]
  },
  {
   "cell_type": "code",
   "execution_count": 283,
   "metadata": {},
   "outputs": [],
   "source": [
    "jewelry_df_bracelet_clean.description = jewelry_df_bracelet_clean.description.fillna('None')"
   ]
  },
  {
   "cell_type": "markdown",
   "metadata": {},
   "source": [
    "#### Processing min and max"
   ]
  },
  {
   "cell_type": "code",
   "execution_count": 287,
   "metadata": {},
   "outputs": [],
   "source": [
    "jewelry_df_bracelet_clean.processing_max = jewelry_df_bracelet_clean.processing_max.fillna(0)\n",
    "jewelry_df_bracelet_clean.processing_min = jewelry_df_bracelet_clean.processing_min.fillna(0)"
   ]
  },
  {
   "cell_type": "markdown",
   "metadata": {},
   "source": [
    "#### Recipient"
   ]
  },
  {
   "cell_type": "code",
   "execution_count": 293,
   "metadata": {},
   "outputs": [
    {
     "data": {
      "text/plain": [
       "any              41122\n",
       "women             5632\n",
       "unisex_adults     1817\n",
       "men                479\n",
       "girls              196\n",
       "babies             108\n",
       "not_specified       99\n",
       "teen_girls          77\n",
       "teens               62\n",
       "children            34\n",
       "baby_girls          15\n",
       "teen_boys            5\n",
       "boys                 3\n",
       "baby_boys            1\n",
       "Name: recipient, dtype: int64"
      ]
     },
     "execution_count": 293,
     "metadata": {},
     "output_type": "execute_result"
    }
   ],
   "source": [
    "jewelry_df_bracelet_clean.recipient = jewelry_df_bracelet_clean.recipient.fillna('any')\n",
    "\n",
    "jewelry_df_bracelet_clean.recipient.value_counts()"
   ]
  },
  {
   "cell_type": "markdown",
   "metadata": {},
   "source": [
    "#### Should Auto Renew, SKU -- drop column not needed"
   ]
  },
  {
   "cell_type": "code",
   "execution_count": 309,
   "metadata": {},
   "outputs": [],
   "source": [
    "# jewelry_df_bracelet_clean.should_auto_renew.value_counts()\n",
    "\n",
    "# jewelry_df_bracelet_clean = jewelry_df_bracelet_clean.drop(columns=['should_auto_renew'])\n",
    "# jewelry_df_bracelet_clean = jewelry_df_bracelet_clean.drop(columns=['sku'])\n",
    "# jewelry_df_bracelet_clean = jewelry_df_bracelet_clean.drop(columns=['state'])\n",
    "# jewelry_df_bracelet_clean = jewelry_df_bracelet_clean.drop(columns=['style'])"
   ]
  },
  {
   "cell_type": "markdown",
   "metadata": {},
   "source": [
    "#### Tags - list to str"
   ]
  },
  {
   "cell_type": "code",
   "execution_count": 312,
   "metadata": {},
   "outputs": [
    {
     "data": {
      "text/plain": [
       "0    green n yellow, green bracelets, yellow bracel...\n",
       "1    anxiety, anxiety bracelets, lava beads, calmin...\n",
       "2    bangle, gift, adustable bangle, vintage bracel...\n",
       "3    bangle, gift, adustable bangle, vintage, brace...\n",
       "4    women, beaded, brown, beige, turquoise, wrap b...\n",
       "Name: tags, dtype: object"
      ]
     },
     "execution_count": 312,
     "metadata": {},
     "output_type": "execute_result"
    }
   ],
   "source": [
    "jewelry_df_bracelet_clean.tags = jewelry_df_bracelet_clean.tags.apply(convert_list_col_notry)\n",
    "\n",
    "jewelry_df_bracelet_clean.tags.head()"
   ]
  },
  {
   "cell_type": "code",
   "execution_count": 317,
   "metadata": {},
   "outputs": [
    {
     "data": {
      "text/plain": [
       "0    Jewelry, Bracelets, Beaded Bracelets\n",
       "1    Jewelry, Bracelets, Beaded Bracelets\n",
       "2             Jewelry, Bracelets, Bangles\n",
       "3             Jewelry, Bracelets, Bangles\n",
       "4                      Jewelry, Bracelets\n",
       "Name: taxonomy_path, dtype: object"
      ]
     },
     "execution_count": 317,
     "metadata": {},
     "output_type": "execute_result"
    }
   ],
   "source": [
    "jewelry_df_bracelet_clean.taxonomy_path = jewelry_df_bracelet_clean.taxonomy_path.apply(convert_list_col_notry)\n",
    "\n",
    "jewelry_df_bracelet_clean.taxonomy_path.head()"
   ]
  },
  {
   "cell_type": "code",
   "execution_count": 325,
   "metadata": {},
   "outputs": [],
   "source": [
    "jewelry_df_bracelet_clean.title = jewelry_df_bracelet_clean.title.fillna('None')"
   ]
  },
  {
   "cell_type": "code",
   "execution_count": 328,
   "metadata": {},
   "outputs": [
    {
     "data": {
      "text/plain": [
       "0    0\n",
       "1    0\n",
       "2    0\n",
       "3    0\n",
       "4    0\n",
       "Name: used_manufacturer, dtype: int64"
      ]
     },
     "execution_count": 328,
     "metadata": {},
     "output_type": "execute_result"
    }
   ],
   "source": [
    "jewelry_df_bracelet_clean.used_manufacturer = jewelry_df_bracelet_clean.used_manufacturer.apply(convert_bool_col)\n",
    "\n",
    "jewelry_df_bracelet_clean.used_manufacturer.head()"
   ]
  },
  {
   "cell_type": "code",
   "execution_count": 340,
   "metadata": {},
   "outputs": [],
   "source": [
    "jewelry_df_bracelet_clean.who_made = jewelry_df_bracelet_clean.who_made.fillna('someone_else')"
   ]
  },
  {
   "cell_type": "code",
   "execution_count": 343,
   "metadata": {},
   "outputs": [],
   "source": [
    "def when_made_catg(when_made):\n",
    "    if when_made == '2010_2019' or when_made == '2000_2009':\n",
    "        return 'standard'\n",
    "    elif when_made == 'made_to_order':\n",
    "        return when_made\n",
    "    else:\n",
    "        return 'vintage'"
   ]
  },
  {
   "cell_type": "code",
   "execution_count": 344,
   "metadata": {},
   "outputs": [],
   "source": [
    "jewelry_df_bracelet_clean.when_made = jewelry_df_bracelet_clean.when_made.apply(when_made_catg)"
   ]
  },
  {
   "cell_type": "code",
   "execution_count": 345,
   "metadata": {},
   "outputs": [
    {
     "data": {
      "text/plain": [
       "standard         29588\n",
       "made_to_order    13706\n",
       "vintage           6356\n",
       "Name: when_made, dtype: int64"
      ]
     },
     "execution_count": 345,
     "metadata": {},
     "output_type": "execute_result"
    }
   ],
   "source": [
    "jewelry_df_bracelet_clean.when_made.value_counts()"
   ]
  },
  {
   "cell_type": "code",
   "execution_count": 346,
   "metadata": {
    "scrolled": false
   },
   "outputs": [
    {
     "data": {
      "text/plain": [
       "category_path        0\n",
       "currency_code        0\n",
       "description          0\n",
       "ending_tsz           0\n",
       "featured_rank        0\n",
       "is_customizable      0\n",
       "is_digital           0\n",
       "is_supply            0\n",
       "listing_id           0\n",
       "materials            0\n",
       "non_taxable          0\n",
       "num_favorers         0\n",
       "occasion             0\n",
       "price                0\n",
       "processing_max       0\n",
       "processing_min       0\n",
       "quantity             0\n",
       "recipient            0\n",
       "tags                 0\n",
       "taxonomy_path        0\n",
       "title                0\n",
       "used_manufacturer    0\n",
       "user_id              0\n",
       "views                0\n",
       "when_made            0\n",
       "who_made             0\n",
       "dtype: int64"
      ]
     },
     "execution_count": 346,
     "metadata": {},
     "output_type": "execute_result"
    }
   ],
   "source": [
    "jewelry_df_bracelet_clean.isna().sum()"
   ]
  },
  {
   "cell_type": "code",
   "execution_count": 347,
   "metadata": {
    "scrolled": false
   },
   "outputs": [
    {
     "data": {
      "text/html": [
       "<div>\n",
       "<style scoped>\n",
       "    .dataframe tbody tr th:only-of-type {\n",
       "        vertical-align: middle;\n",
       "    }\n",
       "\n",
       "    .dataframe tbody tr th {\n",
       "        vertical-align: top;\n",
       "    }\n",
       "\n",
       "    .dataframe thead th {\n",
       "        text-align: right;\n",
       "    }\n",
       "</style>\n",
       "<table border=\"1\" class=\"dataframe\">\n",
       "  <thead>\n",
       "    <tr style=\"text-align: right;\">\n",
       "      <th></th>\n",
       "      <th>category_path</th>\n",
       "      <th>currency_code</th>\n",
       "      <th>description</th>\n",
       "      <th>ending_tsz</th>\n",
       "      <th>featured_rank</th>\n",
       "      <th>is_customizable</th>\n",
       "      <th>is_digital</th>\n",
       "      <th>is_supply</th>\n",
       "      <th>listing_id</th>\n",
       "      <th>materials</th>\n",
       "      <th>...</th>\n",
       "      <th>quantity</th>\n",
       "      <th>recipient</th>\n",
       "      <th>tags</th>\n",
       "      <th>taxonomy_path</th>\n",
       "      <th>title</th>\n",
       "      <th>used_manufacturer</th>\n",
       "      <th>user_id</th>\n",
       "      <th>views</th>\n",
       "      <th>when_made</th>\n",
       "      <th>who_made</th>\n",
       "    </tr>\n",
       "  </thead>\n",
       "  <tbody>\n",
       "    <tr>\n",
       "      <th>0</th>\n",
       "      <td>Jewelry, Bracelet</td>\n",
       "      <td>USD</td>\n",
       "      <td>Green and yellow glass bead stretch bracelet w...</td>\n",
       "      <td>1.567574e+09</td>\n",
       "      <td>9999.0</td>\n",
       "      <td>0</td>\n",
       "      <td>0</td>\n",
       "      <td>0</td>\n",
       "      <td>641003945</td>\n",
       "      <td>Glass, Silver</td>\n",
       "      <td>...</td>\n",
       "      <td>1.0</td>\n",
       "      <td>any</td>\n",
       "      <td>green n yellow, green bracelets, yellow bracel...</td>\n",
       "      <td>Jewelry, Bracelets, Beaded Bracelets</td>\n",
       "      <td>Green and yellow bead stretch bracelet</td>\n",
       "      <td>0</td>\n",
       "      <td>29661480.0</td>\n",
       "      <td>6.0</td>\n",
       "      <td>standard</td>\n",
       "      <td>i_did</td>\n",
       "    </tr>\n",
       "    <tr>\n",
       "      <th>1</th>\n",
       "      <td>Jewelry, Bracelet</td>\n",
       "      <td>USD</td>\n",
       "      <td>These are handmade bracelets available in many...</td>\n",
       "      <td>1.567574e+09</td>\n",
       "      <td>9999.0</td>\n",
       "      <td>1</td>\n",
       "      <td>0</td>\n",
       "      <td>0</td>\n",
       "      <td>672050249</td>\n",
       "      <td>lava beads, calming stones</td>\n",
       "      <td>...</td>\n",
       "      <td>50.0</td>\n",
       "      <td>any</td>\n",
       "      <td>anxiety, anxiety bracelets, lava beads, calmin...</td>\n",
       "      <td>Jewelry, Bracelets, Beaded Bracelets</td>\n",
       "      <td>Anxiety Bracelets</td>\n",
       "      <td>0</td>\n",
       "      <td>60791752.0</td>\n",
       "      <td>25.0</td>\n",
       "      <td>made_to_order</td>\n",
       "      <td>i_did</td>\n",
       "    </tr>\n",
       "    <tr>\n",
       "      <th>2</th>\n",
       "      <td>Jewelry, Bracelet</td>\n",
       "      <td>USD</td>\n",
       "      <td>These coins on this bracelet are all from CANA...</td>\n",
       "      <td>1.567574e+09</td>\n",
       "      <td>9999.0</td>\n",
       "      <td>1</td>\n",
       "      <td>0</td>\n",
       "      <td>0</td>\n",
       "      <td>461461780</td>\n",
       "      <td>jewelry grade sterling silver, tarnish resista...</td>\n",
       "      <td>...</td>\n",
       "      <td>1.0</td>\n",
       "      <td>any</td>\n",
       "      <td>bangle, gift, adustable bangle, vintage bracel...</td>\n",
       "      <td>Jewelry, Bracelets, Bangles</td>\n",
       "      <td>Canada! Bangle with Salvaged Vintage Coin, Adj...</td>\n",
       "      <td>0</td>\n",
       "      <td>79737247.0</td>\n",
       "      <td>27.0</td>\n",
       "      <td>standard</td>\n",
       "      <td>i_did</td>\n",
       "    </tr>\n",
       "    <tr>\n",
       "      <th>3</th>\n",
       "      <td>Jewelry, Bracelet</td>\n",
       "      <td>USD</td>\n",
       "      <td>This is a bracelet handmade with salvaged vint...</td>\n",
       "      <td>1.567574e+09</td>\n",
       "      <td>9999.0</td>\n",
       "      <td>1</td>\n",
       "      <td>0</td>\n",
       "      <td>0</td>\n",
       "      <td>474947759</td>\n",
       "      <td>jewelry grade sterling silver, tarnish resista...</td>\n",
       "      <td>...</td>\n",
       "      <td>1.0</td>\n",
       "      <td>any</td>\n",
       "      <td>bangle, gift, adustable bangle, vintage, brace...</td>\n",
       "      <td>Jewelry, Bracelets, Bangles</td>\n",
       "      <td>Brazil, Venezuela, &amp; Mexico! Bangle with Salva...</td>\n",
       "      <td>0</td>\n",
       "      <td>79737247.0</td>\n",
       "      <td>44.0</td>\n",
       "      <td>standard</td>\n",
       "      <td>i_did</td>\n",
       "    </tr>\n",
       "    <tr>\n",
       "      <th>4</th>\n",
       "      <td>Jewelry, Bracelet</td>\n",
       "      <td>USD</td>\n",
       "      <td>Fun to wear triple wrap leather beaded bracele...</td>\n",
       "      <td>1.567574e+09</td>\n",
       "      <td>9999.0</td>\n",
       "      <td>0</td>\n",
       "      <td>0</td>\n",
       "      <td>0</td>\n",
       "      <td>211934530</td>\n",
       "      <td>silver, antique, button, leather, Czech glass ...</td>\n",
       "      <td>...</td>\n",
       "      <td>1.0</td>\n",
       "      <td>any</td>\n",
       "      <td>women, beaded, brown, beige, turquoise, wrap b...</td>\n",
       "      <td>Jewelry, Bracelets</td>\n",
       "      <td>Triple wrap leather bracelet with varying Czec...</td>\n",
       "      <td>0</td>\n",
       "      <td>30363083.0</td>\n",
       "      <td>132.0</td>\n",
       "      <td>standard</td>\n",
       "      <td>i_did</td>\n",
       "    </tr>\n",
       "  </tbody>\n",
       "</table>\n",
       "<p>5 rows × 26 columns</p>\n",
       "</div>"
      ],
      "text/plain": [
       "       category_path currency_code  \\\n",
       "0  Jewelry, Bracelet           USD   \n",
       "1  Jewelry, Bracelet           USD   \n",
       "2  Jewelry, Bracelet           USD   \n",
       "3  Jewelry, Bracelet           USD   \n",
       "4  Jewelry, Bracelet           USD   \n",
       "\n",
       "                                         description    ending_tsz  \\\n",
       "0  Green and yellow glass bead stretch bracelet w...  1.567574e+09   \n",
       "1  These are handmade bracelets available in many...  1.567574e+09   \n",
       "2  These coins on this bracelet are all from CANA...  1.567574e+09   \n",
       "3  This is a bracelet handmade with salvaged vint...  1.567574e+09   \n",
       "4  Fun to wear triple wrap leather beaded bracele...  1.567574e+09   \n",
       "\n",
       "   featured_rank  is_customizable  is_digital  is_supply  listing_id  \\\n",
       "0         9999.0                0           0          0   641003945   \n",
       "1         9999.0                1           0          0   672050249   \n",
       "2         9999.0                1           0          0   461461780   \n",
       "3         9999.0                1           0          0   474947759   \n",
       "4         9999.0                0           0          0   211934530   \n",
       "\n",
       "                                           materials  ... quantity  recipient  \\\n",
       "0                                      Glass, Silver  ...      1.0        any   \n",
       "1                         lava beads, calming stones  ...     50.0        any   \n",
       "2  jewelry grade sterling silver, tarnish resista...  ...      1.0        any   \n",
       "3  jewelry grade sterling silver, tarnish resista...  ...      1.0        any   \n",
       "4  silver, antique, button, leather, Czech glass ...  ...      1.0        any   \n",
       "\n",
       "                                                tags  \\\n",
       "0  green n yellow, green bracelets, yellow bracel...   \n",
       "1  anxiety, anxiety bracelets, lava beads, calmin...   \n",
       "2  bangle, gift, adustable bangle, vintage bracel...   \n",
       "3  bangle, gift, adustable bangle, vintage, brace...   \n",
       "4  women, beaded, brown, beige, turquoise, wrap b...   \n",
       "\n",
       "                          taxonomy_path  \\\n",
       "0  Jewelry, Bracelets, Beaded Bracelets   \n",
       "1  Jewelry, Bracelets, Beaded Bracelets   \n",
       "2           Jewelry, Bracelets, Bangles   \n",
       "3           Jewelry, Bracelets, Bangles   \n",
       "4                    Jewelry, Bracelets   \n",
       "\n",
       "                                               title  used_manufacturer  \\\n",
       "0             Green and yellow bead stretch bracelet                  0   \n",
       "1                                  Anxiety Bracelets                  0   \n",
       "2  Canada! Bangle with Salvaged Vintage Coin, Adj...                  0   \n",
       "3  Brazil, Venezuela, & Mexico! Bangle with Salva...                  0   \n",
       "4  Triple wrap leather bracelet with varying Czec...                  0   \n",
       "\n",
       "      user_id  views      when_made who_made  \n",
       "0  29661480.0    6.0       standard    i_did  \n",
       "1  60791752.0   25.0  made_to_order    i_did  \n",
       "2  79737247.0   27.0       standard    i_did  \n",
       "3  79737247.0   44.0       standard    i_did  \n",
       "4  30363083.0  132.0       standard    i_did  \n",
       "\n",
       "[5 rows x 26 columns]"
      ]
     },
     "execution_count": 347,
     "metadata": {},
     "output_type": "execute_result"
    }
   ],
   "source": [
    "jewelry_df_bracelet_clean.head()"
   ]
  },
  {
   "cell_type": "code",
   "execution_count": 375,
   "metadata": {},
   "outputs": [],
   "source": [
    "#conversion rate on 9/8 - \n",
    "\n",
    "def convert_curr(curr_code, price):\n",
    "    curr_dict = {\n",
    "    'USD':1,\n",
    "    'EUR':1.11,\n",
    "    'GBP':1.23,\n",
    "    'CAD':0.76,\n",
    "    'AUD':0.68,\n",
    "    'ILS':0.28,\n",
    "    'CHF':1.01,\n",
    "    'HKD':0.13,\n",
    "    'SEK':0.1,\n",
    "    'SGD':0.72,\n",
    "    'NZD':0.64,\n",
    "    'MXN':0.05,\n",
    "    'NOK':0.11,\n",
    "    'DKK':0.15,\n",
    "    'JPY':0.01,\n",
    "    'THB':0.03,\n",
    "    'HUF':0.003,\n",
    "    'TWD':0.03,\n",
    "    'PHP':0.02}\n",
    "    \n",
    "    if curr_code in curr_dict.keys():\n",
    "        return price*curr_dict[curr_code]\n",
    "    else:\n",
    "        return price"
   ]
  },
  {
   "cell_type": "code",
   "execution_count": 388,
   "metadata": {},
   "outputs": [
    {
     "data": {
      "text/plain": [
       "12.0"
      ]
     },
     "execution_count": 388,
     "metadata": {},
     "output_type": "execute_result"
    }
   ],
   "source": [
    "float(jewelry_df_bracelet_clean.price[0])"
   ]
  },
  {
   "cell_type": "code",
   "execution_count": 389,
   "metadata": {},
   "outputs": [],
   "source": [
    "jewelry_df_bracelet_clean['price_usd'] = \\\n",
    "jewelry_df_bracelet_clean.apply(lambda x: convert_curr(x['currency_code'],float(x['price'])), axis=1)"
   ]
  },
  {
   "cell_type": "markdown",
   "metadata": {},
   "source": [
    "### Clean df function"
   ]
  },
  {
   "cell_type": "code",
   "execution_count": 403,
   "metadata": {},
   "outputs": [],
   "source": [
    "def clean_df(jewelry_df):\n",
    "    \n",
    "    #Create Copy\n",
    "    jewelry_df_clean = jewelry_df.copy()\n",
    "    \n",
    "    #Filter - remove all products where language != english\n",
    "    jewelry_df_clean.language = jewelry_df_clean.language.fillna('na')\n",
    "    jewelry_df_clean = jewelry_df_clean[jewelry_df_clean.language.isin(['en-US','MACHINE_en'])]\n",
    "    \n",
    "    \n",
    "    #Drop Columns\n",
    "    jewelry_df_clean = jewelry_df_clean.drop(columns=['category_id','category_path_ids','shipping_template_id',\n",
    "                                                      'shop_section_id','suggested_taxonomy_id','taxonomy_id',\n",
    "                                                      'url','file_data','has_variations','is_private','style',\n",
    "                                                      'item_dimensions_unit','item_height','item_length',\n",
    "                                                      'item_weight','item_weight_unit','item_width',\n",
    "                                                      'creation_tsz','last_modified_tsz','original_creation_tsz',\n",
    "                                                      'state_tsz','language','should_auto_renew','sku','state'])\n",
    "    \n",
    "    #Impute Missing Values\n",
    "    jewelry_df_clean.featured_rank = jewelry_df_clean.featured_rank.fillna(9999)\n",
    "    jewelry_df_clean.is_customizable = jewelry_df_clean.is_customizable.fillna(False)\n",
    "    jewelry_df_clean.is_digital = jewelry_df_clean.is_digital.fillna(False)\n",
    "    jewelry_df_clean.is_supply = jewelry_df_clean.is_supply.fillna(False)\n",
    "    jewelry_df_clean.occasion = jewelry_df_clean.occasion.fillna('None')\n",
    "    jewelry_df_clean.description = jewelry_df_clean.description.fillna('None')\n",
    "    jewelry_df_clean.processing_max = jewelry_df_clean.processing_max.fillna(0)\n",
    "    jewelry_df_clean.processing_min = jewelry_df_clean.processing_min.fillna(0)\n",
    "    jewelry_df_clean.recipient = jewelry_df_clean.recipient.fillna('any')\n",
    "    jewelry_df_clean.title = jewelry_df_clean.title.fillna('None')\n",
    "    jewelry_df_clean.who_made = jewelry_df_clean.who_made.fillna('someone_else')\n",
    "    \n",
    "    \n",
    "    #Clean Columns\n",
    "    jewelry_df_clean.category_path = jewelry_df_clean.category_path.apply(convert_list_col)\n",
    "    jewelry_df_clean.is_customizable = jewelry_df_clean.is_customizable.apply(convert_bool_col)\n",
    "    jewelry_df_clean.is_digital = jewelry_df_clean.is_digital.apply(convert_bool_col)\n",
    "    jewelry_df_clean.is_supply = jewelry_df_clean.is_supply.apply(convert_str_bool_col)\n",
    "    jewelry_df_clean.materials = jewelry_df_clean.materials.apply(convert_list_col_notry)\n",
    "    jewelry_df_clean.tags = jewelry_df_clean.tags.apply(convert_list_col_notry)\n",
    "    jewelry_df_clean.taxonomy_path = jewelry_df_clean.taxonomy_path.apply(convert_list_col)\n",
    "    jewelry_df_clean.used_manufacturer = jewelry_df_clean.used_manufacturer.apply(convert_bool_col)\n",
    "    jewelry_df_clean.when_made = jewelry_df_clean.when_made.apply(when_made_catg)\n",
    "    jewelry_df_clean['price_usd'] = \\\n",
    "    jewelry_df_clean.apply(lambda x: convert_curr(x['currency_code'],float(x['price'])), axis=1)\n",
    "    \n",
    "    #Drop currency code and old price columns\n",
    "    jewelry_df_clean = jewelry_df_clean.drop(columns = ['price','currency_code'])\n",
    "    \n",
    "    return jewelry_df_clean"
   ]
  },
  {
   "cell_type": "markdown",
   "metadata": {},
   "source": [
    "#### Create copies and run clean df on all categories for jewelry dfs"
   ]
  },
  {
   "cell_type": "code",
   "execution_count": 358,
   "metadata": {},
   "outputs": [],
   "source": [
    "jewelry_df_earrings_clean = jewelry_df_earrings.copy()\n",
    "jewelry_df_necklace_clean = jewelry_df_necklace.copy()\n",
    "jewelry_df_anklet_clean = jewelry_df_anklet.copy()\n",
    "jewelry_df_brooch_clean = jewelry_df_brooch.copy()\n",
    "jewelry_df_ring_clean = jewelry_df_ring.copy()\n",
    "jewelry_df_pendant_clean = jewelry_df_pendant.copy()\n",
    "jewelry_df_piercing_clean = jewelry_df_pierching.copy()"
   ]
  },
  {
   "cell_type": "code",
   "execution_count": 394,
   "metadata": {},
   "outputs": [],
   "source": [
    "jewelry_df_piercing_clean2 = clean_df(jewelry_df_piercing_clean)"
   ]
  },
  {
   "cell_type": "code",
   "execution_count": 416,
   "metadata": {},
   "outputs": [],
   "source": [
    "jewelry_df_anklet_clean2 = clean_df(jewelry_df_anklet_clean)\n",
    "# jewelry_df_bracelet_clean2 = clean_df(jewelry_df_bracelet_clean)\n",
    "jewelry_df_bracelet_clean2 = jewelry_df_bracelet_clean.copy()\n",
    "jewelry_df_brooch_clean2 = clean_df(jewelry_df_brooch_clean)\n",
    "jewelry_df_earrings_clean2 = clean_df(jewelry_df_earrings_clean)\n",
    "jewelry_df_necklace_clean2 = clean_df(jewelry_df_necklace_clean)\n",
    "jewelry_df_pendant_clean2 = clean_df(jewelry_df_pendant_clean)\n",
    "jewelry_df_ring_clean2 = clean_df(jewelry_df_ring_clean)"
   ]
  },
  {
   "cell_type": "code",
   "execution_count": 419,
   "metadata": {},
   "outputs": [],
   "source": [
    "jewelry_df_bracelet_clean2 = jewelry_df_bracelet_clean2.drop(columns = ['price','currency_code'])"
   ]
  },
  {
   "cell_type": "markdown",
   "metadata": {},
   "source": [
    "#### Create identifier column and merge all dfs"
   ]
  },
  {
   "cell_type": "code",
   "execution_count": 424,
   "metadata": {},
   "outputs": [],
   "source": [
    "jewelry_df_anklet_clean2['jewelry_catg'] = 'anklet'\n",
    "jewelry_df_bracelet_clean2['jewelry_catg'] = 'bracelet'\n",
    "jewelry_df_brooch_clean2['jewelry_catg'] = 'brooch'\n",
    "jewelry_df_earrings_clean2['jewelry_catg'] = 'earrings'\n",
    "jewelry_df_necklace_clean2['jewelry_catg'] = 'necklace'\n",
    "jewelry_df_pendant_clean2['jewelry_catg'] = 'pendant'\n",
    "jewelry_df_piercing_clean2['jewelry_catg'] = 'piercing'\n",
    "jewelry_df_ring_clean2['jewelry_catg'] = 'ring'"
   ]
  },
  {
   "cell_type": "code",
   "execution_count": 427,
   "metadata": {},
   "outputs": [],
   "source": [
    "jewelry_df = jewelry_df_anklet_clean2.append(jewelry_df_bracelet_clean2, ignore_index=True)"
   ]
  },
  {
   "cell_type": "code",
   "execution_count": 429,
   "metadata": {},
   "outputs": [],
   "source": [
    "jewelry_df = jewelry_df.append(jewelry_df_brooch_clean2, ignore_index=True)"
   ]
  },
  {
   "cell_type": "code",
   "execution_count": 439,
   "metadata": {},
   "outputs": [],
   "source": [
    "# jewelry_df = jewelry_df.append(jewelry_df_earrings_clean2, ignore_index=True)\n",
    "# jewelry_df = jewelry_df.append(jewelry_df_necklace_clean2, ignore_index=True)\n",
    "# jewelry_df = jewelry_df.append(jewelry_df_pendant_clean2, ignore_index=True)\n",
    "# jewelry_df = jewelry_df.append(jewelry_df_piercing_clean2, ignore_index=True)\n",
    "jewelry_df = jewelry_df.append(jewelry_df_ring_clean2, ignore_index=True)"
   ]
  },
  {
   "cell_type": "code",
   "execution_count": 440,
   "metadata": {},
   "outputs": [
    {
     "name": "stdout",
     "output_type": "stream",
     "text": [
      "<class 'pandas.core.frame.DataFrame'>\n",
      "RangeIndex: 311047 entries, 0 to 311046\n",
      "Data columns (total 26 columns):\n",
      "category_path        311047 non-null object\n",
      "description          311047 non-null object\n",
      "ending_tsz           311047 non-null float64\n",
      "featured_rank        311047 non-null float64\n",
      "is_customizable      311047 non-null int64\n",
      "is_digital           311047 non-null int64\n",
      "is_supply            311047 non-null int64\n",
      "listing_id           311047 non-null int64\n",
      "materials            311047 non-null object\n",
      "non_taxable          311047 non-null object\n",
      "num_favorers         311047 non-null float64\n",
      "occasion             311047 non-null object\n",
      "processing_max       311047 non-null float64\n",
      "processing_min       311047 non-null float64\n",
      "quantity             311047 non-null float64\n",
      "recipient            311047 non-null object\n",
      "tags                 311047 non-null object\n",
      "taxonomy_path        311047 non-null object\n",
      "title                311047 non-null object\n",
      "used_manufacturer    311047 non-null int64\n",
      "user_id              311047 non-null float64\n",
      "views                311047 non-null float64\n",
      "when_made            311047 non-null object\n",
      "who_made             311047 non-null object\n",
      "price_usd            311047 non-null float64\n",
      "jewelry_catg         311047 non-null object\n",
      "dtypes: float64(9), int64(5), object(12)\n",
      "memory usage: 61.7+ MB\n"
     ]
    }
   ],
   "source": [
    "jewelry_df.info()"
   ]
  },
  {
   "cell_type": "code",
   "execution_count": 442,
   "metadata": {},
   "outputs": [],
   "source": [
    "jewelry_df.to_pickle('jewelry_df_clean.pkl')\n"
   ]
  },
  {
   "cell_type": "code",
   "execution_count": null,
   "metadata": {},
   "outputs": [],
   "source": []
  }
 ],
 "metadata": {
  "kernelspec": {
   "display_name": "metis",
   "language": "python",
   "name": "metis"
  },
  "language_info": {
   "codemirror_mode": {
    "name": "ipython",
    "version": 3
   },
   "file_extension": ".py",
   "mimetype": "text/x-python",
   "name": "python",
   "nbconvert_exporter": "python",
   "pygments_lexer": "ipython3",
   "version": "3.6.8"
  }
 },
 "nbformat": 4,
 "nbformat_minor": 2
}
